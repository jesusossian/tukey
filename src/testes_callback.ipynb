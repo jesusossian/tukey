{
 "cells": [
  {
   "cell_type": "code",
   "execution_count": 1,
   "metadata": {},
   "outputs": [],
   "source": [
    "using Gurobi\n",
    "using JuMP"
   ]
  },
  {
   "cell_type": "code",
   "execution_count": 2,
   "metadata": {},
   "outputs": [
    {
     "name": "stdout",
     "output_type": "stream",
     "text": [
      "Set parameter Username\n",
      "Academic license - for non-commercial use only - expires 2023-12-01\n"
     ]
    },
    {
     "data": {
      "text/latex": [
       "$$ x $$"
      ],
      "text/plain": [
       "x"
      ]
     },
     "execution_count": 2,
     "metadata": {},
     "output_type": "execute_result"
    }
   ],
   "source": [
    "model = Model(Gurobi.Optimizer)\n",
    "@variable(model, x <= 10.5, Int)\n",
    "@objective(model, Max, x)"
   ]
  },
  {
   "cell_type": "code",
   "execution_count": null,
   "metadata": {},
   "outputs": [],
   "source": []
  },
  {
   "cell_type": "code",
   "execution_count": 3,
   "metadata": {},
   "outputs": [
    {
     "data": {
      "text/plain": [
       "heur_callback (generic function with 1 method)"
      ]
     },
     "execution_count": 3,
     "metadata": {},
     "output_type": "execute_result"
    }
   ],
   "source": [
    "function heur_callback(cb_data)\n",
    "    x_val = callback_value(cb_data, x)\n",
    "    status = MOI.submit(\n",
    "        model, MOI.HeuristicSolution(cb_data), [x], [floor(Int, x_val)]\n",
    "    )\n",
    "    println(\"I submitted a heuristic solution, and the status was: \", status)\n",
    "end"
   ]
  },
  {
   "cell_type": "code",
   "execution_count": 4,
   "metadata": {},
   "outputs": [
    {
     "data": {
      "text/plain": [
       "cut_callback (generic function with 1 method)"
      ]
     },
     "execution_count": 4,
     "metadata": {},
     "output_type": "execute_result"
    }
   ],
   "source": [
    "cut_called = false\n",
    "function cut_callback(cb_data)\n",
    "    cut_called = true\n",
    "    x_val = callback_value(cb_data, x)\n",
    "    con = @build_constraint(x <= floor(x_val))\n",
    "    MOI.submit(model, MOI.UserCut(cb_data), con)\n",
    "end\n"
   ]
  },
  {
   "cell_type": "code",
   "execution_count": 5,
   "metadata": {},
   "outputs": [
    {
     "data": {
      "text/plain": [
       "lazy_callback (generic function with 1 method)"
      ]
     },
     "execution_count": 5,
     "metadata": {},
     "output_type": "execute_result"
    }
   ],
   "source": [
    "function lazy_callback(cb_data)\n",
    "    status = callback_node_status(cb_data, model)\n",
    "    if status == MOI.CALLBACK_NODE_STATUS_FRACTIONAL\n",
    "        # `callback_value(cb_data, x)` is not integer (to some tolerance).\n",
    "        # If, for example, your lazy constraint generator requires an\n",
    "        # integer-feasible primal solution, you can add a `return` here.\n",
    "        return\n",
    "    elseif status == MOI.CALLBACK_NODE_STATUS_INTEGER\n",
    "        # `callback_value(cb_data, x)` is integer (to some tolerance).\n",
    "    else\n",
    "        @assert status == MOI.CALLBACK_NODE_STATUS_UNKNOWN\n",
    "        # `callback_value(cb_data, x)` might be fractional or integer.\n",
    "    end\n",
    "    x_val = callback_value(cb_data, x)\n",
    "    if x_val > 2 + 1e-6\n",
    "        con = @build_constraint(x <= 2)\n",
    "        MOI.submit(model, MOI.LazyConstraint(cb_data), con)\n",
    "    end\n",
    "end"
   ]
  },
  {
   "cell_type": "code",
   "execution_count": 6,
   "metadata": {},
   "outputs": [
    {
     "data": {
      "text/plain": [
       "lazy1_callback (generic function with 1 method)"
      ]
     },
     "execution_count": 6,
     "metadata": {},
     "output_type": "execute_result"
    }
   ],
   "source": [
    "function lazy1_callback(cb_data)\n",
    "    if callback_value(x) > 2\n",
    "        con = @build_constraint(x <= 2)\n",
    "        MOI.submit(model, MOI.LazyConstraint(cb_data), con)\n",
    "    end\n",
    "end"
   ]
  },
  {
   "cell_type": "code",
   "execution_count": null,
   "metadata": {},
   "outputs": [],
   "source": []
  },
  {
   "cell_type": "code",
   "execution_count": 8,
   "metadata": {},
   "outputs": [],
   "source": [
    "MOI.set(model, MOI.HeuristicCallback(), heur_callback)\n",
    "#MOI.set(model, MOI.UserCutCallback(), cut_callback)\n",
    "#MOI.set(model, MOI.LazyConstraintCallback(), lazy_callback)\n",
    "#MOI.set(model, MOI.LazyConstraintCallback(), callback_lazy1)"
   ]
  },
  {
   "cell_type": "code",
   "execution_count": 9,
   "metadata": {},
   "outputs": [
    {
     "name": "stdout",
     "output_type": "stream",
     "text": [
      "Gurobi Optimizer version 10.0.0 build v10.0.0rc2 (linux64)\n",
      "\n",
      "CPU model: Intel(R) Core(TM) i5-1035G1 CPU @ 1.00GHz, instruction set [SSE2|AVX|AVX2|AVX512]\n",
      "Thread count: 4 physical cores, 8 logical processors, using up to 8 threads\n",
      "\n",
      "Optimize a model with 0 rows, 1 columns and 0 nonzeros\n",
      "Model fingerprint: 0x04ceb2e1\n",
      "Variable types: 0 continuous, 1 integer (0 binary)\n",
      "Coefficient statistics:\n",
      "  Matrix range     [0e+00, 0e+00]\n",
      "  Objective range  [1e+00, 1e+00]\n",
      "  Bounds range     [1e+01, 1e+01]\n",
      "  RHS range        [0e+00, 0e+00]\n",
      "Found heuristic solution: objective 10.0000000\n",
      "Presolve removed 0 rows and 1 columns\n",
      "Presolve time: 0.00s\n",
      "Presolve: All rows and columns removed\n",
      "\n",
      "Explored 0 nodes (0 simplex iterations) in 0.01 seconds (0.00 work units)\n",
      "Thread count was 1 (of 8 available processors)\n",
      "\n",
      "Solution count 1: 10 \n",
      "\n",
      "Optimal solution found (tolerance 1.00e-04)\n",
      "Best objective 1.000000000000e+01, best bound 1.000000000000e+01, gap 0.0000%\n",
      "\n",
      "User-callback calls 86, time in user-callback 0.03 sec\n"
     ]
    }
   ],
   "source": [
    "status = optimize!(model)"
   ]
  },
  {
   "cell_type": "code",
   "execution_count": 13,
   "metadata": {},
   "outputs": [
    {
     "name": "stdout",
     "output_type": "stream",
     "text": [
      "Set parameter Username\n",
      "Academic license - for non-commercial use only - expires 2023-12-01\n",
      "Set parameter LazyConstraints to value 1\n",
      "Gurobi Optimizer version 10.0.0 build v10.0.0rc2 (linux64)\n",
      "\n",
      "CPU model: Intel(R) Core(TM) i5-1035G1 CPU @ 1.00GHz, instruction set [SSE2|AVX|AVX2|AVX512]\n",
      "Thread count: 4 physical cores, 8 logical processors, using up to 8 threads\n",
      "\n",
      "Optimize a model with 0 rows, 2 columns and 0 nonzeros\n",
      "Model fingerprint: 0x009f5141\n",
      "Coefficient statistics:\n",
      "  Matrix range     [0e+00, 0e+00]\n",
      "  Objective range  [1e+00, 5e+00]\n",
      "  Bounds range     [1e+02, 1e+02]\n",
      "  RHS range        [0e+00, 0e+00]\n",
      "Presolve time: 0.00s\n",
      "Presolved: 0 rows, 2 columns, 0 nonzeros\n",
      "\n",
      "Iteration    Objective       Primal Inf.    Dual Inf.      Time\n",
      "       0    6.2000000e+02   0.000000e+00   0.000000e+00      0s\n",
      "\n",
      "Solved in 0 iterations and 0.00 seconds (0.00 work units)\n",
      "Optimal objective  6.200000000e+02\n",
      "\n",
      "User-callback calls 24, time in user-callback 0.00 sec\n"
     ]
    }
   ],
   "source": [
    "using JuMP  # JuMP v.0.20.3, aka the master branch as of 2020-02.07 (and not the latest release)\n",
    "using Gurobi\n",
    "using Random\n",
    "using Test\n",
    "\n",
    "function foo()\n",
    "    # Prepare JuMP model\n",
    "    model = Model(Gurobi.Optimizer)\n",
    "    @variable(model, 0 <=pgen1 <= 100)\n",
    "    @variable(model, 0 <=pgen2 <= 100)\n",
    "    #@constraint(m, pgen1+pgen2==100)\n",
    "    @objective(model, Max, 5*pgen1+1.2*pgen2)\n",
    "    lazy_called = false\n",
    "    function my_callback_function(cb_data)  # callback for preventive constraints\n",
    "        lazy_called = true\n",
    "        print(\"Entered callback function. \")\n",
    "        TOL = 1e-6\n",
    "        con = @build_constraint(pgen1 <= 80)\n",
    "        MOI.submit(model, MOI.LazyConstraint(cb_data), con)\n",
    "    end\n",
    "\n",
    "    # Set lazy constraint, run optimization and perform tests\n",
    "    MOI.set(model, MOI.LazyConstraintCallback(), my_callback_function)\n",
    "    optimize!(model)\n",
    "    \n",
    "    #@test termination_status(model) == MOI.OPTIMAL\n",
    "    #@test primal_status(model) == MOI.FEASIBLE_POINT\n",
    "    #@test lazy_called\n",
    "end\n",
    "\n",
    "foo()"
   ]
  },
  {
   "cell_type": "code",
   "execution_count": null,
   "metadata": {},
   "outputs": [],
   "source": []
  }
 ],
 "metadata": {
  "kernelspec": {
   "display_name": "Julia 1.8.5",
   "language": "julia",
   "name": "julia-1.8"
  },
  "language_info": {
   "file_extension": ".jl",
   "mimetype": "application/julia",
   "name": "julia",
   "version": "1.8.5"
  },
  "orig_nbformat": 4
 },
 "nbformat": 4,
 "nbformat_minor": 2
}
