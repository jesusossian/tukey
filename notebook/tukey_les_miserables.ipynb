{
 "cells": [
  {
   "cell_type": "code",
   "execution_count": null,
   "metadata": {},
   "outputs": [],
   "source": []
  },
  {
   "cell_type": "code",
   "execution_count": 6,
   "metadata": {},
   "outputs": [],
   "source": [
    "%matplotlib inline\n",
    "\n",
    "import urllib.request\n",
    "import io\n",
    "import zipfile\n",
    "\n",
    "from pathlib import Path\n",
    "import os\n",
    "\n",
    "import matplotlib.pyplot as plt\n",
    "import networkx as nx\n",
    "import numpy as np\n",
    "import pandas as pd\n",
    "import gurobipy as gp\n",
    "from gurobipy import GRB\n",
    "\n",
    "import igraph as ig"
   ]
  },
  {
   "cell_type": "code",
   "execution_count": 7,
   "metadata": {},
   "outputs": [],
   "source": [
    "G = nx.les_miserables_graph()"
   ]
  },
  {
   "cell_type": "code",
   "execution_count": 8,
   "metadata": {},
   "outputs": [
    {
     "data": {
      "text/plain": [
       "True"
      ]
     },
     "execution_count": 8,
     "metadata": {},
     "output_type": "execute_result"
    }
   ],
   "source": [
    "nx.is_connected(G)"
   ]
  },
  {
   "cell_type": "code",
   "execution_count": 9,
   "metadata": {},
   "outputs": [
    {
     "data": {
      "text/plain": [
       "77"
      ]
     },
     "execution_count": 9,
     "metadata": {},
     "output_type": "execute_result"
    }
   ],
   "source": [
    "nx.number_of_nodes(G)\n"
   ]
  },
  {
   "cell_type": "code",
   "execution_count": 10,
   "metadata": {},
   "outputs": [
    {
     "data": {
      "text/plain": [
       "254"
      ]
     },
     "execution_count": 10,
     "metadata": {},
     "output_type": "execute_result"
    }
   ],
   "source": [
    "nx.number_of_edges(G)"
   ]
  },
  {
   "cell_type": "code",
   "execution_count": 11,
   "metadata": {},
   "outputs": [
    {
     "data": {
      "text/plain": [
       "['Napoleon',\n",
       " 'Myriel',\n",
       " 'MlleBaptistine',\n",
       " 'MmeMagloire',\n",
       " 'CountessDeLo',\n",
       " 'Geborand',\n",
       " 'Champtercier',\n",
       " 'Cravatte',\n",
       " 'Count',\n",
       " 'OldMan',\n",
       " 'Valjean',\n",
       " 'Labarre',\n",
       " 'Marguerite',\n",
       " 'MmeDeR',\n",
       " 'Isabeau',\n",
       " 'Gervais',\n",
       " 'Listolier',\n",
       " 'Tholomyes',\n",
       " 'Fameuil',\n",
       " 'Blacheville',\n",
       " 'Favourite',\n",
       " 'Dahlia',\n",
       " 'Zephine',\n",
       " 'Fantine',\n",
       " 'MmeThenardier',\n",
       " 'Thenardier',\n",
       " 'Cosette',\n",
       " 'Javert',\n",
       " 'Fauchelevent',\n",
       " 'Bamatabois',\n",
       " 'Perpetue',\n",
       " 'Simplice',\n",
       " 'Scaufflaire',\n",
       " 'Woman1',\n",
       " 'Judge',\n",
       " 'Champmathieu',\n",
       " 'Brevet',\n",
       " 'Chenildieu',\n",
       " 'Cochepaille',\n",
       " 'Pontmercy',\n",
       " 'Boulatruelle',\n",
       " 'Eponine',\n",
       " 'Anzelma',\n",
       " 'Woman2',\n",
       " 'MotherInnocent',\n",
       " 'Gribier',\n",
       " 'MmeBurgon',\n",
       " 'Jondrette',\n",
       " 'Gavroche',\n",
       " 'Gillenormand',\n",
       " 'Magnon',\n",
       " 'MlleGillenormand',\n",
       " 'MmePontmercy',\n",
       " 'MlleVaubois',\n",
       " 'LtGillenormand',\n",
       " 'Marius',\n",
       " 'BaronessT',\n",
       " 'Mabeuf',\n",
       " 'Enjolras',\n",
       " 'Combeferre',\n",
       " 'Prouvaire',\n",
       " 'Feuilly',\n",
       " 'Courfeyrac',\n",
       " 'Bahorel',\n",
       " 'Bossuet',\n",
       " 'Joly',\n",
       " 'Grantaire',\n",
       " 'MotherPlutarch',\n",
       " 'Gueulemer',\n",
       " 'Babet',\n",
       " 'Claquesous',\n",
       " 'Montparnasse',\n",
       " 'Toussaint',\n",
       " 'Child1',\n",
       " 'Child2',\n",
       " 'Brujon',\n",
       " 'MmeHucheloup']"
      ]
     },
     "execution_count": 11,
     "metadata": {},
     "output_type": "execute_result"
    }
   ],
   "source": [
    "list(G.nodes)"
   ]
  },
  {
   "cell_type": "code",
   "execution_count": null,
   "metadata": {},
   "outputs": [],
   "source": []
  }
 ],
 "metadata": {
  "kernelspec": {
   "display_name": "Python 3",
   "language": "python",
   "name": "python3"
  },
  "language_info": {
   "codemirror_mode": {
    "name": "ipython",
    "version": 3
   },
   "file_extension": ".py",
   "mimetype": "text/x-python",
   "name": "python",
   "nbconvert_exporter": "python",
   "pygments_lexer": "ipython3",
   "version": "3.10.6"
  },
  "orig_nbformat": 4
 },
 "nbformat": 4,
 "nbformat_minor": 2
}
