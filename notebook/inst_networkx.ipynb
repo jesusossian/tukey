{
 "cells": [
  {
   "cell_type": "code",
   "execution_count": 1,
   "metadata": {},
   "outputs": [],
   "source": [
    "%matplotlib inline\n",
    "\n",
    "import urllib.request\n",
    "import io\n",
    "import zipfile\n",
    "\n",
    "from pathlib import Path\n",
    "import os\n",
    "\n",
    "import matplotlib.pyplot as plt\n",
    "import networkx as nx\n",
    "import numpy as np\n",
    "import pandas as pd\n",
    "import gurobipy as gp\n",
    "from gurobipy import GRB\n",
    "\n",
    "import igraph as ig"
   ]
  },
  {
   "cell_type": "code",
   "execution_count": 2,
   "metadata": {},
   "outputs": [],
   "source": [
    "#G = nx.watts_strogatz_graph(n, k, p, seed=None)\n",
    "#Parameters\n",
    "#n int The number of nodes\n",
    "#k int Each node is joined with its k nearest neighbors in a ring topology.\n",
    "#p float The probability of rewiring each edge\n",
    "# seed integer, random_state, or None (default)Indicator of random number generation state."
   ]
  },
  {
   "cell_type": "code",
   "execution_count": 3,
   "metadata": {},
   "outputs": [],
   "source": [
    "#G = nx.connected_watts_strogatz_graph(n, k, p, tries=100, seed=None)\n",
    "#Parameters\n",
    "#n int The number of nodes\n",
    "#k int Each node is joined with its k nearest neighbors in a ring topology.\n",
    "#p float The probability of rewiring each edge\n",
    "#tries int Number of attempts to generate a connected graph.\n",
    "#seed integer, random_state, or None (default) Indicator of random number generation state."
   ]
  },
  {
   "cell_type": "code",
   "execution_count": 4,
   "metadata": {},
   "outputs": [],
   "source": [
    "#G = nx.newman_watts_strogatz_graph(n, k, p, seed=None)\n",
    "#Returns a Newman–Watts–Strogatz small-world graph.\n",
    "#Parameters\n",
    "#n int The number of nodes.\n",
    "#k int Each node is joined with its k nearest neighbors in a ring topology.\n",
    "#p float The probability of adding a new edge for each edge.\n",
    "#seed integer, random_state, or None (default) Indicator of random number generation state."
   ]
  },
  {
   "cell_type": "code",
   "execution_count": 5,
   "metadata": {},
   "outputs": [],
   "source": [
    "#url = \"http://www-personal.umich.edu/~mejn/netdata/football.zip\"\n",
    "\n",
    "#sock = urllib.request.urlopen(url)  # open URL\n",
    "#s = io.BytesIO(sock.read())  # read into BytesIO \"file\"\n",
    "#sock.close()\n",
    "\n",
    "#zf = zipfile.ZipFile(s)  # zipfile object\n",
    "#txt = zf.read(\"football.txt\").decode()  # read info file\n",
    "#gml = zf.read(\"football.gml\").decode()  # read gml data\n",
    "# throw away bogus first line with # from mejn files\n",
    "#gml = gml.split(\"\\n\")[1:]\n",
    "#G = nx.parse_gml(gml)  # parse gml data\n",
    "\n",
    "#print(txt)\n",
    "# print degree for each team - number of games\n",
    "#for n, d in G.degree():\n",
    "#    print(f\"{n:20} {d:2}\")\n",
    "\n",
    "#options = {\"node_color\": \"black\", \"node_size\": 50, \"linewidths\": 0, \"width\": 0.1}\n",
    "\n",
    "#pos = nx.spring_layout(G, seed=1969)  # Seed for reproducible layout\n",
    "#nx.draw(G, pos, **options)\n",
    "#plt.show()"
   ]
  },
  {
   "cell_type": "code",
   "execution_count": 6,
   "metadata": {},
   "outputs": [],
   "source": [
    "#G=nx.read_edgelist(\"/home/jossian/repository/tukey/instances/ca-GrQc.txt.gz\")"
   ]
  },
  {
   "cell_type": "code",
   "execution_count": 7,
   "metadata": {},
   "outputs": [],
   "source": [
    "#karate = ig.Graph.Read_GraphML(\"/home/jossian/repository/tukey_depth/src/instances/zachary.graphml\")\n",
    "\n",
    "#ig.summary(karate)\n",
    "\n",
    "#inst_=\"karate\"\n",
    "#instance_=f\"{inst_}\"\n",
    "#G = nx.read_gml(f\"../instances/{inst_}/{instance_}.gml.gz\",destringizer=int)\n",
    "\n",
    "#n = G.vcount()\n",
    "#print(n)\n",
    "\n",
    "#m = G.ecount()\n",
    "#print(m)\n",
    "\n",
    "#len(G.cliques())\n",
    "\n",
    "#print(G.maximal_independent_vertex_sets())\n",
    "#print(nx.maximal_independent_set(G))\n",
    "#igraph_maximal_independent_vertex_sets(G)\n",
    "\n",
    "#karate.independence_number()\n",
    "\n",
    "#karate.distances(2)\n",
    "#A = nx.Graph(G)\n",
    "#A = ig.Graph.from_networkx(G)\n",
    "#tmp = len(A.maximal_independent_vertex_sets())\n",
    "#print(tmp)"
   ]
  },
  {
   "cell_type": "code",
   "execution_count": 8,
   "metadata": {},
   "outputs": [],
   "source": [
    "# instances\n",
    "\n",
    "#G = ig.Graph.Famous(\"petersen\")\n",
    "#ig.plot(G)\n",
    "\n",
    "#g = ig.Graph.Erdos_Renyi(n=50, p=0.2, directed=False, loops=False)\n",
    "#ig.plot(g)\n",
    "\n",
    "#inst_=\"example\"\n",
    "#G = nx.Graph()\n",
    "#list0 = [0,1,2,3,4,5]\n",
    "#G.add_nodes_from(list0)\n",
    "#G.add_edge(0,2)\n",
    "#G.add_edge(1,2)\n",
    "#G.add_edge(2,3)\n",
    "#G.add_edge(3,4)\n",
    "#G.add_edge(4,5)\n",
    "\n",
    "#inst_=\"karate\"\n",
    "#G = nx.karate_club_graph()\n",
    "#nx.write_gml(G, f\"../instances/{inst_}.gml.gz\")\n",
    "#nx.write_graphml(G, f\"../instances/{inst_}.graphml\")\n",
    "\n",
    "#inst_=\"petersen\"\n",
    "#G = nx.petersen_graph()\n",
    "#nx.write_gml(G, f\"../instances/{inst_}.gml.gz\")\n",
    "\n",
    "#dim=50\n",
    "#inst_=f\"tree_{dim}\"\n",
    "#for id in range(1,11):\n",
    "#    G = nx.random_tree(50)\n",
    "#    nx.write_gml(G, f\"../instances/{inst_}_{id}.gml.gz\",stringizer=int)\n",
    "\n",
    "#dim=500\n",
    "#inst_=f\"internet_graph_{dim}\"\n",
    "#for id in range(1,11):\n",
    "#    G = nx.random_internet_as_graph(dim)\n",
    "#    nx.write_gml(G, f\"../instances/{inst_}_{id}.gml.gz\")\n",
    "\n",
    "# erdos_renyi_graph(n, p, seed=None, directed=False)\n",
    "#G = nx.erdos_renyi_graph(50,0.1)\n",
    "\n",
    "# barabasi_albert_graph(n, m, seed=None, initial_graph=None)\n",
    "#G = nx.barabasi_albert_graph()\n",
    "#nx.write_gml(G, f\"../instances/{inst_}.gml.gz\")\n",
    "\n",
    "#dim=100\n",
    "#inst_=f\"erdos_renyi_{dim}\"\n",
    "#for id in range(1,11):\n",
    "#    GI = ig.Graph.Erdos_Renyi(n=dim, p=0.2, directed=False, loops=False)\n",
    "#    A = ig.Graph.get_edgelist(GI)\n",
    "#    G = nx.Graph(A)\n",
    "#    #G = ig.Graph.to_networkx(GI)\n",
    "#    nx.write_gml(G, f\"../instances/{inst_}_{id}.gml.gz\",stringizer=int)\n",
    "\n",
    "#inst_=\"les_miserables\"\n",
    "#G = nx.les_miserables_graph()\n",
    "#nx.write_gml(G, f\"../instances/{inst_}.gml.gz\")\n",
    "\n",
    "#inst_=\"dodecahedral_graph\"\n",
    "#G = nx.dodecahedral_graph()\n",
    "#nx.write_gml(G, f\"../instances/{inst_}.gml.gz\")\n",
    "\n",
    "#inst_=\"cube\"\n",
    "#G = nx.Graph()\n",
    "#list = [0,1,2,3,4,5,6,7]\n",
    "#G.add_nodes_from(list)\n",
    "#G.add_edge(0,1)\n",
    "#G.add_edge(0,4)\n",
    "#G.add_edge(0,3)\n",
    "#G.add_edge(1,2)\n",
    "#G.add_edge(1,5)\n",
    "#G.add_edge(2,3)\n",
    "#G.add_edge(2,6)\n",
    "#G.add_edge(3,7)\n",
    "#G.add_edge(4,5)\n",
    "#G.add_edge(4,7)\n",
    "#G.add_edge(5,6)\n",
    "#G.add_edge(6,7)\n",
    "#nx.write_gml(G, f\"../instances/{inst_}.gml.gz\")\n",
    "\n",
    "#inst_=\"moser_spindle_modi\"\n",
    "#G = nx.Graph()\n",
    "#list = [0,1,2,3,4,5,6]\n",
    "#G.add_nodes_from(list)\n",
    "#G.add_edge(0,1)\n",
    "#G.add_edge(0,2)\n",
    "#G.add_edge(0,5)\n",
    "#G.add_edge(0,6)\n",
    "#G.add_edge(1,2)\n",
    "#G.add_edge(1,3)\n",
    "#G.add_edge(2,3)\n",
    "#G.add_edge(3,4)\n",
    "#G.add_edge(4,5)\n",
    "#G.add_edge(4,6)\n",
    "#G.add_edge(5,6)\n",
    "#nx.write_gml(G, f\"../instances/{inst_}.gml.gz\")\n",
    "\n",
    "#inst_=\"circut_example\"\n",
    "#G = nx.Graph()\n",
    "#list = [0,1,2,3,4,5]\n",
    "#G.add_nodes_from(list)\n",
    "#G.add_edge(0,1)\n",
    "#G.add_edge(1,2)\n",
    "#G.add_edge(2,3)\n",
    "#G.add_edge(3,4)\n",
    "#G.add_edge(4,5)\n",
    "#G.add_edge(5,0)\n",
    "#nx.write_gml(G, f\"../instances/{inst_}.gml.gz\")\n"
   ]
  },
  {
   "cell_type": "code",
   "execution_count": 9,
   "metadata": {},
   "outputs": [],
   "source": [
    "#G.nodes\n",
    "#G.edges\n",
    "#nx.is_connected(G)\n",
    "#G.number_of_nodes()\n",
    "#G.number_of_edges()\n",
    "#nx.draw(G,  with_labels = True)\n"
   ]
  },
  {
   "cell_type": "code",
   "execution_count": 10,
   "metadata": {},
   "outputs": [
    {
     "data": {
      "image/png": "[encoded data removed]",
      "text/plain": [
       "<Figure size 640x480 with 1 Axes>"
      ]
     },
     "metadata": {},
     "output_type": "display_data"
    }
   ],
   "source": [
    "inst_=\"cube\"\n",
    "instance_=f\"{inst_}\"\n",
    "G = nx.read_gml(f\"../instances/{inst_}/{instance_}.gml.gz\",destringizer=int)\n",
    "\n",
    "#ig.plot(GI)\n",
    "#nx.draw_networkx_labels(G,pos=nx.spring_layout(G))\n",
    "nx.draw(G,  with_labels = True)"
   ]
  },
  {
   "cell_type": "code",
   "execution_count": 11,
   "metadata": {},
   "outputs": [
    {
     "data": {
      "text/plain": [
       "True"
      ]
     },
     "execution_count": 11,
     "metadata": {},
     "output_type": "execute_result"
    }
   ],
   "source": [
    "nx.is_connected(G)"
   ]
  },
  {
   "cell_type": "code",
   "execution_count": 12,
   "metadata": {},
   "outputs": [
    {
     "data": {
      "text/plain": [
       "8"
      ]
     },
     "execution_count": 12,
     "metadata": {},
     "output_type": "execute_result"
    }
   ],
   "source": [
    "G.number_of_nodes()"
   ]
  },
  {
   "cell_type": "code",
   "execution_count": 13,
   "metadata": {},
   "outputs": [
    {
     "data": {
      "text/plain": [
       "12"
      ]
     },
     "execution_count": 13,
     "metadata": {},
     "output_type": "execute_result"
    }
   ],
   "source": [
    "G.number_of_edges()"
   ]
  },
  {
   "cell_type": "code",
   "execution_count": 14,
   "metadata": {},
   "outputs": [
    {
     "name": "stdout",
     "output_type": "stream",
     "text": [
      "[(0, 2, 5, 7), (0, 6), (2, 4), (1, 3, 4, 6), (1, 7), (3, 5)]\n"
     ]
    }
   ],
   "source": [
    "A = ig.Graph.from_networkx(G)\n",
    "#Im = nx.maximal_independent_set(T)\n",
    "Im = A.maximal_independent_vertex_sets()\n",
    "print(Im)                "
   ]
  },
  {
   "cell_type": "code",
   "execution_count": 16,
   "metadata": {},
   "outputs": [
    {
     "name": "stdout",
     "output_type": "stream",
     "text": [
      "[1, 4, 3]\n"
     ]
    }
   ],
   "source": [
    "Nu = nx.neighbors(G,0)\n",
    "            \n",
    "listNu = []\n",
    "for j in Nu:\n",
    "    listNu.append(j)\n",
    "\n",
    "print(listNu)"
   ]
  },
  {
   "cell_type": "code",
   "execution_count": 17,
   "metadata": {},
   "outputs": [
    {
     "name": "stdout",
     "output_type": "stream",
     "text": [
      "1\n",
      "4\n",
      "3\n"
     ]
    },
    {
     "data": {
      "image/svg+xml": [
       "<?xml version=\"1.0\" encoding=\"UTF-8\"?>\n",
       "<svg xmlns=\"http://www.w3.org/2000/svg\" xmlns:xlink=\"http://www.w3.org/1999/xlink\" width=\"600pt\" height=\"600pt\" viewBox=\"0 0 600 600\" version=\"1.1\">\n",
       "<defs>\n",
       "<g>\n",
       "<symbol overflow=\"visible\" id=\"glyph0-0\">\n",
       "<path style=\"stroke:none;\" d=\"M 0.703125 2.46875 L 0.703125 -9.875 L 7.703125 -9.875 L 7.703125 2.46875 Z M 1.484375 1.703125 L 6.921875 1.703125 L 6.921875 -9.078125 L 1.484375 -9.078125 Z M 1.484375 1.703125 \"/>\n",
       "</symbol>\n",
       "<symbol overflow=\"visible\" id=\"glyph0-1\">\n",
       "<path style=\"stroke:none;\" d=\"M 1.734375 -1.15625 L 4 -1.15625 L 4 -8.953125 L 1.53125 -8.453125 L 1.53125 -9.71875 L 3.984375 -10.203125 L 5.359375 -10.203125 L 5.359375 -1.15625 L 7.609375 -1.15625 L 7.609375 0 L 1.734375 0 Z M 1.734375 -1.15625 \"/>\n",
       "</symbol>\n",
       "<symbol overflow=\"visible\" id=\"glyph0-2\">\n",
       "<path style=\"stroke:none;\" d=\"M 5.296875 -9 L 1.8125 -3.5625 L 5.296875 -3.5625 Z M 4.921875 -10.203125 L 6.671875 -10.203125 L 6.671875 -3.5625 L 8.125 -3.5625 L 8.125 -2.40625 L 6.671875 -2.40625 L 6.671875 0 L 5.296875 0 L 5.296875 -2.40625 L 0.6875 -2.40625 L 0.6875 -3.734375 Z M 4.921875 -10.203125 \"/>\n",
       "</symbol>\n",
       "<symbol overflow=\"visible\" id=\"glyph0-3\">\n",
       "<path style=\"stroke:none;\" d=\"M 5.6875 -5.5 C 6.34375 -5.363281 6.851562 -5.070312 7.21875 -4.625 C 7.59375 -4.175781 7.78125 -3.625 7.78125 -2.96875 C 7.78125 -1.957031 7.429688 -1.175781 6.734375 -0.625 C 6.046875 -0.0703125 5.066406 0.203125 3.796875 0.203125 C 3.367188 0.203125 2.925781 0.15625 2.46875 0.0625 C 2.019531 -0.0195312 1.550781 -0.144531 1.0625 -0.3125 L 1.0625 -1.640625 C 1.445312 -1.421875 1.867188 -1.253906 2.328125 -1.140625 C 2.785156 -1.023438 3.257812 -0.96875 3.75 -0.96875 C 4.613281 -0.96875 5.269531 -1.132812 5.71875 -1.46875 C 6.175781 -1.8125 6.40625 -2.3125 6.40625 -2.96875 C 6.40625 -3.570312 6.191406 -4.039062 5.765625 -4.375 C 5.347656 -4.71875 4.765625 -4.890625 4.015625 -4.890625 L 2.828125 -4.890625 L 2.828125 -6.015625 L 4.078125 -6.015625 C 4.753906 -6.015625 5.269531 -6.148438 5.625 -6.421875 C 5.988281 -6.703125 6.171875 -7.097656 6.171875 -7.609375 C 6.171875 -8.128906 5.984375 -8.53125 5.609375 -8.8125 C 5.242188 -9.09375 4.710938 -9.234375 4.015625 -9.234375 C 3.640625 -9.234375 3.234375 -9.191406 2.796875 -9.109375 C 2.367188 -9.023438 1.894531 -8.894531 1.375 -8.71875 L 1.375 -9.953125 C 1.894531 -10.097656 2.382812 -10.207031 2.84375 -10.28125 C 3.300781 -10.351562 3.734375 -10.390625 4.140625 -10.390625 C 5.191406 -10.390625 6.019531 -10.148438 6.625 -9.671875 C 7.238281 -9.203125 7.546875 -8.5625 7.546875 -7.75 C 7.546875 -7.175781 7.382812 -6.695312 7.0625 -6.3125 C 6.738281 -5.925781 6.28125 -5.65625 5.6875 -5.5 Z M 5.6875 -5.5 \"/>\n",
       "</symbol>\n",
       "</g>\n",
       "</defs>\n",
       "<g id=\"surface2\">\n",
       "<rect x=\"0\" y=\"0\" width=\"600\" height=\"600\" style=\"fill:rgb(100%,100%,100%);fill-opacity:1;stroke:none;\"/>\n",
       "<path style=\"fill-rule:nonzero;fill:rgb(100%,0%,0%);fill-opacity:1;stroke-width:1;stroke-linecap:butt;stroke-linejoin:miter;stroke:rgb(0%,0%,0%);stroke-opacity:1;stroke-miterlimit:10;\" d=\"M 198.804688 580 C 198.804688 585.523438 194.324219 590 188.804688 590 C 183.28125 590 178.804688 585.523438 178.804688 580 C 178.804688 574.476562 183.28125 570 188.804688 570 C 194.324219 570 198.804688 574.476562 198.804688 580 \"/>\n",
       "<path style=\"fill-rule:nonzero;fill:rgb(100%,0%,0%);fill-opacity:1;stroke-width:1;stroke-linecap:butt;stroke-linejoin:miter;stroke:rgb(0%,0%,0%);stroke-opacity:1;stroke-miterlimit:10;\" d=\"M 30 20 C 30 25.523438 25.523438 30 20 30 C 14.476562 30 10 25.523438 10 20 C 10 14.476562 14.476562 10 20 10 C 25.523438 10 30 14.476562 30 20 \"/>\n",
       "<path style=\"fill-rule:nonzero;fill:rgb(100%,0%,0%);fill-opacity:1;stroke-width:1;stroke-linecap:butt;stroke-linejoin:miter;stroke:rgb(0%,0%,0%);stroke-opacity:1;stroke-miterlimit:10;\" d=\"M 590 150.929688 C 590 156.453125 585.523438 160.929688 580 160.929688 C 574.476562 160.929688 570 156.453125 570 150.929688 C 570 145.40625 574.476562 140.929688 580 140.929688 C 585.523438 140.929688 590 145.40625 590 150.929688 \"/>\n",
       "<g style=\"fill:rgb(0%,0%,0%);fill-opacity:1;\">\n",
       "  <use xlink:href=\"#glyph0-1\" x=\"184.226562\" y=\"586.753906\"/>\n",
       "</g>\n",
       "<g style=\"fill:rgb(0%,0%,0%);fill-opacity:1;\">\n",
       "  <use xlink:href=\"#glyph0-2\" x=\"15.597656\" y=\"26.753906\"/>\n",
       "</g>\n",
       "<g style=\"fill:rgb(0%,0%,0%);fill-opacity:1;\">\n",
       "  <use xlink:href=\"#glyph0-3\" x=\"575.574219\" y=\"157.777344\"/>\n",
       "</g>\n",
       "</g>\n",
       "</svg>\n"
      ],
      "text/plain": [
       "<igraph.drawing.cairo.plot.CairoPlot at 0x7f00b3df5a50>"
      ]
     },
     "execution_count": 17,
     "metadata": {
      "image/svg+xml": {
       "isolated": true
      }
     },
     "output_type": "execute_result"
    }
   ],
   "source": [
    "T = nx.Graph()\n",
    "Z = ig.Graph()\n",
    "T.add_nodes_from(listNu)\n",
    "Z.add_vertices(listNu)\n",
    "\n",
    "Z.vs[\"name\"] = [1,4,3]\n",
    "Z.vs[\"label\"] = Z.vs[\"name\"]\n",
    "#del(T.vs[\"_nx_name\"])\n",
    "\n",
    "#print(Z)\n",
    "#Z.vs\n",
    "\n",
    "#labels_dict={0: '1', 1: '4', 2: '3'}\n",
    "#labels=list(labels_dict.values())\n",
    "\n",
    "for i in Z.vs:\n",
    "    print(i[\"name\"])\n",
    "\n",
    "\n",
    "#ig.plot(Z, vertex_label =  labels)\n",
    "\n",
    "#                for (a,b) in combinations(listNu,2):\n",
    "#                    if G.has_edge(a,b):\n",
    "#                        T.add_edge(a,b)\n",
    "#                        Z.add_edges([(a,b)])\n",
    "\n",
    "                #nx.draw(T,  with_labels = True)\n",
    "\n",
    "ig.plot(Z)\n"
   ]
  },
  {
   "cell_type": "code",
   "execution_count": null,
   "metadata": {},
   "outputs": [],
   "source": []
  },
  {
   "cell_type": "code",
   "execution_count": 18,
   "metadata": {},
   "outputs": [],
   "source": [
    "Z = ig.Graph()"
   ]
  },
  {
   "cell_type": "code",
   "execution_count": 19,
   "metadata": {},
   "outputs": [
    {
     "name": "stdout",
     "output_type": "stream",
     "text": [
      "IGRAPH U--- 0 0 --\n"
     ]
    }
   ],
   "source": [
    "print(Z)"
   ]
  },
  {
   "cell_type": "code",
   "execution_count": 20,
   "metadata": {},
   "outputs": [
    {
     "name": "stdout",
     "output_type": "stream",
     "text": [
      "tam lmiset: 6\n",
      "(0, 2, 5, 7)\n",
      "(0, 6)\n",
      "(2, 4)\n",
      "(1, 3, 4, 6)\n",
      "(1, 7)\n",
      "(3, 5)\n"
     ]
    }
   ],
   "source": [
    "# maximal independent set\n",
    "list_miset = A.maximal_independent_vertex_sets()\n",
    "\n",
    "tmp = len(list_miset)\n",
    "print(\"tam lmiset: %d\" %(tmp))\n",
    "if tmp > 0:\n",
    "    for id in list_miset:\n",
    "        print(id)\n",
    "        #tmp1 = len(id)\n",
    "        #print(\"tam item lmiset: %d \" %(tmp1))\n",
    "        #for id1 in id:\n",
    "        #    print(id1)\n",
    "        #list.append(id)\n",
    "        #print(list)\n"
   ]
  },
  {
   "cell_type": "code",
   "execution_count": null,
   "metadata": {},
   "outputs": [],
   "source": []
  },
  {
   "cell_type": "code",
   "execution_count": 21,
   "metadata": {},
   "outputs": [
    {
     "data": {
      "image/svg+xml": [
       "<?xml version=\"1.0\" encoding=\"UTF-8\"?>\n",
       "<svg xmlns=\"http://www.w3.org/2000/svg\" xmlns:xlink=\"http://www.w3.org/1999/xlink\" width=\"600pt\" height=\"600pt\" viewBox=\"0 0 600 600\" version=\"1.1\">\n",
       "<g id=\"surface8\">\n",
       "<rect x=\"0\" y=\"0\" width=\"600\" height=\"600\" style=\"fill:rgb(100%,100%,100%);fill-opacity:1;stroke:none;\"/>\n",
       "<path style=\"fill:none;stroke-width:1;stroke-linecap:butt;stroke-linejoin:miter;stroke:rgb(26.666667%,26.666667%,26.666667%);stroke-opacity:1;stroke-miterlimit:10;\" d=\"M 540.1875 457.871094 L 253.339844 580 \"/>\n",
       "<path style=\"fill:none;stroke-width:1;stroke-linecap:butt;stroke-linejoin:miter;stroke:rgb(26.666667%,26.666667%,26.666667%);stroke-opacity:1;stroke-miterlimit:10;\" d=\"M 540.1875 457.871094 L 312.460938 252.316406 \"/>\n",
       "<path style=\"fill:none;stroke-width:1;stroke-linecap:butt;stroke-linejoin:miter;stroke:rgb(26.666667%,26.666667%,26.666667%);stroke-opacity:1;stroke-miterlimit:10;\" d=\"M 540.1875 457.871094 L 580 207.359375 \"/>\n",
       "<path style=\"fill:none;stroke-width:1;stroke-linecap:butt;stroke-linejoin:miter;stroke:rgb(26.666667%,26.666667%,26.666667%);stroke-opacity:1;stroke-miterlimit:10;\" d=\"M 253.339844 580 L 287.546875 347.683594 \"/>\n",
       "<path style=\"fill:none;stroke-width:1;stroke-linecap:butt;stroke-linejoin:miter;stroke:rgb(26.666667%,26.666667%,26.666667%);stroke-opacity:1;stroke-miterlimit:10;\" d=\"M 253.339844 580 L 20 392.652344 \"/>\n",
       "<path style=\"fill:none;stroke-width:1;stroke-linecap:butt;stroke-linejoin:miter;stroke:rgb(26.666667%,26.666667%,26.666667%);stroke-opacity:1;stroke-miterlimit:10;\" d=\"M 287.546875 347.683594 L 580 207.359375 \"/>\n",
       "<path style=\"fill:none;stroke-width:1;stroke-linecap:butt;stroke-linejoin:miter;stroke:rgb(26.666667%,26.666667%,26.666667%);stroke-opacity:1;stroke-miterlimit:10;\" d=\"M 287.546875 347.683594 L 59.816406 142.117188 \"/>\n",
       "<path style=\"fill:none;stroke-width:1;stroke-linecap:butt;stroke-linejoin:miter;stroke:rgb(26.666667%,26.666667%,26.666667%);stroke-opacity:1;stroke-miterlimit:10;\" d=\"M 580 207.359375 L 346.6875 20 \"/>\n",
       "<path style=\"fill:none;stroke-width:1;stroke-linecap:butt;stroke-linejoin:miter;stroke:rgb(26.666667%,26.666667%,26.666667%);stroke-opacity:1;stroke-miterlimit:10;\" d=\"M 312.460938 252.316406 L 20 392.652344 \"/>\n",
       "<path style=\"fill:none;stroke-width:1;stroke-linecap:butt;stroke-linejoin:miter;stroke:rgb(26.666667%,26.666667%,26.666667%);stroke-opacity:1;stroke-miterlimit:10;\" d=\"M 312.460938 252.316406 L 346.6875 20 \"/>\n",
       "<path style=\"fill:none;stroke-width:1;stroke-linecap:butt;stroke-linejoin:miter;stroke:rgb(26.666667%,26.666667%,26.666667%);stroke-opacity:1;stroke-miterlimit:10;\" d=\"M 20 392.652344 L 59.816406 142.117188 \"/>\n",
       "<path style=\"fill:none;stroke-width:1;stroke-linecap:butt;stroke-linejoin:miter;stroke:rgb(26.666667%,26.666667%,26.666667%);stroke-opacity:1;stroke-miterlimit:10;\" d=\"M 59.816406 142.117188 L 346.6875 20 \"/>\n",
       "<path style=\"fill-rule:nonzero;fill:rgb(100%,0%,0%);fill-opacity:1;stroke-width:1;stroke-linecap:butt;stroke-linejoin:miter;stroke:rgb(0%,0%,0%);stroke-opacity:1;stroke-miterlimit:10;\" d=\"M 550.1875 457.871094 C 550.1875 463.390625 545.710938 467.871094 540.1875 467.871094 C 534.667969 467.871094 530.1875 463.390625 530.1875 457.871094 C 530.1875 452.347656 534.667969 447.871094 540.1875 447.871094 C 545.710938 447.871094 550.1875 452.347656 550.1875 457.871094 \"/>\n",
       "<path style=\"fill-rule:nonzero;fill:rgb(100%,0%,0%);fill-opacity:1;stroke-width:1;stroke-linecap:butt;stroke-linejoin:miter;stroke:rgb(0%,0%,0%);stroke-opacity:1;stroke-miterlimit:10;\" d=\"M 263.339844 580 C 263.339844 585.523438 258.859375 590 253.339844 590 C 247.816406 590 243.339844 585.523438 243.339844 580 C 243.339844 574.476562 247.816406 570 253.339844 570 C 258.859375 570 263.339844 574.476562 263.339844 580 \"/>\n",
       "<path style=\"fill-rule:nonzero;fill:rgb(100%,0%,0%);fill-opacity:1;stroke-width:1;stroke-linecap:butt;stroke-linejoin:miter;stroke:rgb(0%,0%,0%);stroke-opacity:1;stroke-miterlimit:10;\" d=\"M 297.546875 347.683594 C 297.546875 353.207031 293.070312 357.683594 287.546875 357.683594 C 282.023438 357.683594 277.546875 353.207031 277.546875 347.683594 C 277.546875 342.160156 282.023438 337.683594 287.546875 337.683594 C 293.070312 337.683594 297.546875 342.160156 297.546875 347.683594 \"/>\n",
       "<path style=\"fill-rule:nonzero;fill:rgb(100%,0%,0%);fill-opacity:1;stroke-width:1;stroke-linecap:butt;stroke-linejoin:miter;stroke:rgb(0%,0%,0%);stroke-opacity:1;stroke-miterlimit:10;\" d=\"M 590 207.359375 C 590 212.882812 585.523438 217.359375 580 217.359375 C 574.476562 217.359375 570 212.882812 570 207.359375 C 570 201.835938 574.476562 197.359375 580 197.359375 C 585.523438 197.359375 590 201.835938 590 207.359375 \"/>\n",
       "<path style=\"fill-rule:nonzero;fill:rgb(100%,0%,0%);fill-opacity:1;stroke-width:1;stroke-linecap:butt;stroke-linejoin:miter;stroke:rgb(0%,0%,0%);stroke-opacity:1;stroke-miterlimit:10;\" d=\"M 322.460938 252.316406 C 322.460938 257.835938 317.984375 262.316406 312.460938 262.316406 C 306.9375 262.316406 302.460938 257.835938 302.460938 252.316406 C 302.460938 246.792969 306.9375 242.316406 312.460938 242.316406 C 317.984375 242.316406 322.460938 246.792969 322.460938 252.316406 \"/>\n",
       "<path style=\"fill-rule:nonzero;fill:rgb(100%,0%,0%);fill-opacity:1;stroke-width:1;stroke-linecap:butt;stroke-linejoin:miter;stroke:rgb(0%,0%,0%);stroke-opacity:1;stroke-miterlimit:10;\" d=\"M 30 392.652344 C 30 398.171875 25.523438 402.652344 20 402.652344 C 14.476562 402.652344 10 398.171875 10 392.652344 C 10 387.128906 14.476562 382.652344 20 382.652344 C 25.523438 382.652344 30 387.128906 30 392.652344 \"/>\n",
       "<path style=\"fill-rule:nonzero;fill:rgb(100%,0%,0%);fill-opacity:1;stroke-width:1;stroke-linecap:butt;stroke-linejoin:miter;stroke:rgb(0%,0%,0%);stroke-opacity:1;stroke-miterlimit:10;\" d=\"M 69.816406 142.117188 C 69.816406 147.640625 65.335938 152.117188 59.816406 152.117188 C 54.292969 152.117188 49.816406 147.640625 49.816406 142.117188 C 49.816406 136.59375 54.292969 132.117188 59.816406 132.117188 C 65.335938 132.117188 69.816406 136.59375 69.816406 142.117188 \"/>\n",
       "<path style=\"fill-rule:nonzero;fill:rgb(100%,0%,0%);fill-opacity:1;stroke-width:1;stroke-linecap:butt;stroke-linejoin:miter;stroke:rgb(0%,0%,0%);stroke-opacity:1;stroke-miterlimit:10;\" d=\"M 356.6875 20 C 356.6875 25.523438 352.210938 30 346.6875 30 C 341.164062 30 336.6875 25.523438 336.6875 20 C 336.6875 14.476562 341.164062 10 346.6875 10 C 352.210938 10 356.6875 14.476562 356.6875 20 \"/>\n",
       "</g>\n",
       "</svg>\n"
      ],
      "text/plain": [
       "<igraph.drawing.cairo.plot.CairoPlot at 0x7f00b3d39600>"
      ]
     },
     "execution_count": 21,
     "metadata": {
      "image/svg+xml": {
       "isolated": true
      }
     },
     "output_type": "execute_result"
    }
   ],
   "source": [
    "ig.plot(A)"
   ]
  },
  {
   "cell_type": "code",
   "execution_count": 23,
   "metadata": {},
   "outputs": [],
   "source": [
    "#H = nx.read_gml(f\"../instances/{inst_}.gml\",destringizer=int)\n",
    "#H = nx.read_gml(f\"../instances/{inst_}.gml.gz\",destringizer=int)"
   ]
  },
  {
   "cell_type": "code",
   "execution_count": 24,
   "metadata": {},
   "outputs": [],
   "source": [
    "#H.nodes"
   ]
  },
  {
   "cell_type": "code",
   "execution_count": null,
   "metadata": {},
   "outputs": [],
   "source": []
  },
  {
   "cell_type": "code",
   "execution_count": 25,
   "metadata": {},
   "outputs": [],
   "source": [
    "#instance\n",
    "\n",
    "inst_=\"internet_graph\"\n",
    "dim_=200\n",
    "table = pd.DataFrame()\n",
    "for id_ in range(1,11):\n",
    "    list = []\n",
    "    instance_=f\"{inst_}_{dim_}_{id_}\"\n",
    "    G = nx.read_gml(f\"../instances/{inst_}/{dim_}/{instance_}.gml.gz\",destringizer=int)\n",
    "    dados = pd.DataFrame({\n",
    "        'id':id_,\n",
    "        'nodes':G.number_of_nodes(),\n",
    "        'edges':G.number_of_edges(),\n",
    "        'diameter':nx.diameter(G)\n",
    "    },index=[\"teste\"]\n",
    "    )\n",
    "    table = pd.concat([table, dados], ignore_index=True)"
   ]
  },
  {
   "cell_type": "code",
   "execution_count": 26,
   "metadata": {},
   "outputs": [
    {
     "data": {
      "text/html": [
       "<div>\n",
       "<style scoped>\n",
       "    .dataframe tbody tr th:only-of-type {\n",
       "        vertical-align: middle;\n",
       "    }\n",
       "\n",
       "    .dataframe tbody tr th {\n",
       "        vertical-align: top;\n",
       "    }\n",
       "\n",
       "    .dataframe thead th {\n",
       "        text-align: right;\n",
       "    }\n",
       "</style>\n",
       "<table border=\"1\" class=\"dataframe\">\n",
       "  <thead>\n",
       "    <tr style=\"text-align: right;\">\n",
       "      <th></th>\n",
       "      <th>id</th>\n",
       "      <th>nodes</th>\n",
       "      <th>edges</th>\n",
       "      <th>diameter</th>\n",
       "    </tr>\n",
       "  </thead>\n",
       "  <tbody>\n",
       "    <tr>\n",
       "      <th>0</th>\n",
       "      <td>1</td>\n",
       "      <td>200</td>\n",
       "      <td>283</td>\n",
       "      <td>5</td>\n",
       "    </tr>\n",
       "    <tr>\n",
       "      <th>1</th>\n",
       "      <td>2</td>\n",
       "      <td>200</td>\n",
       "      <td>284</td>\n",
       "      <td>6</td>\n",
       "    </tr>\n",
       "    <tr>\n",
       "      <th>2</th>\n",
       "      <td>3</td>\n",
       "      <td>200</td>\n",
       "      <td>285</td>\n",
       "      <td>6</td>\n",
       "    </tr>\n",
       "    <tr>\n",
       "      <th>3</th>\n",
       "      <td>4</td>\n",
       "      <td>200</td>\n",
       "      <td>273</td>\n",
       "      <td>5</td>\n",
       "    </tr>\n",
       "    <tr>\n",
       "      <th>4</th>\n",
       "      <td>5</td>\n",
       "      <td>200</td>\n",
       "      <td>283</td>\n",
       "      <td>6</td>\n",
       "    </tr>\n",
       "    <tr>\n",
       "      <th>5</th>\n",
       "      <td>6</td>\n",
       "      <td>200</td>\n",
       "      <td>280</td>\n",
       "      <td>5</td>\n",
       "    </tr>\n",
       "    <tr>\n",
       "      <th>6</th>\n",
       "      <td>7</td>\n",
       "      <td>200</td>\n",
       "      <td>290</td>\n",
       "      <td>5</td>\n",
       "    </tr>\n",
       "    <tr>\n",
       "      <th>7</th>\n",
       "      <td>8</td>\n",
       "      <td>200</td>\n",
       "      <td>289</td>\n",
       "      <td>6</td>\n",
       "    </tr>\n",
       "    <tr>\n",
       "      <th>8</th>\n",
       "      <td>9</td>\n",
       "      <td>200</td>\n",
       "      <td>279</td>\n",
       "      <td>6</td>\n",
       "    </tr>\n",
       "    <tr>\n",
       "      <th>9</th>\n",
       "      <td>10</td>\n",
       "      <td>200</td>\n",
       "      <td>281</td>\n",
       "      <td>6</td>\n",
       "    </tr>\n",
       "  </tbody>\n",
       "</table>\n",
       "</div>"
      ],
      "text/plain": [
       "   id  nodes  edges  diameter\n",
       "0   1    200    283         5\n",
       "1   2    200    284         6\n",
       "2   3    200    285         6\n",
       "3   4    200    273         5\n",
       "4   5    200    283         6\n",
       "5   6    200    280         5\n",
       "6   7    200    290         5\n",
       "7   8    200    289         6\n",
       "8   9    200    279         6\n",
       "9  10    200    281         6"
      ]
     },
     "execution_count": 26,
     "metadata": {},
     "output_type": "execute_result"
    }
   ],
   "source": [
    "table"
   ]
  },
  {
   "cell_type": "code",
   "execution_count": 27,
   "metadata": {},
   "outputs": [
    {
     "name": "stdout",
     "output_type": "stream",
     "text": [
      "\\begin{tabular}{rrrr}\n",
      "\\toprule\n",
      "id & nodes & edges & diameter \\\\\n",
      "\\midrule\n",
      "1 & 200 & 283 & 5 \\\\\n",
      "2 & 200 & 284 & 6 \\\\\n",
      "3 & 200 & 285 & 6 \\\\\n",
      "4 & 200 & 273 & 5 \\\\\n",
      "5 & 200 & 283 & 6 \\\\\n",
      "6 & 200 & 280 & 5 \\\\\n",
      "7 & 200 & 290 & 5 \\\\\n",
      "8 & 200 & 289 & 6 \\\\\n",
      "9 & 200 & 279 & 6 \\\\\n",
      "10 & 200 & 281 & 6 \\\\\n",
      "\\bottomrule\n",
      "\\end{tabular}\n",
      "\n"
     ]
    }
   ],
   "source": [
    "print(table[['id',\"nodes\",\"edges\",\"diameter\"]].to_latex(index=False,float_format=\"%.1f\"))"
   ]
  },
  {
   "cell_type": "code",
   "execution_count": 28,
   "metadata": {},
   "outputs": [],
   "source": [
    "#instance\n",
    "\n",
    "inst_=\"internet_graph\"\n",
    "dim_=200\n",
    "instance_=f\"{inst_}_{dim_}_1\"\n",
    "G = nx.read_gml(f\"../instances/{inst_}/{dim_}/{instance_}.gml.gz\",destringizer=int)"
   ]
  },
  {
   "cell_type": "code",
   "execution_count": 35,
   "metadata": {},
   "outputs": [],
   "source": [
    "nx.write_edgelist(G, f\"{instance_}.edges\", delimiter=' ', data = False)"
   ]
  },
  {
   "cell_type": "code",
   "execution_count": 32,
   "metadata": {},
   "outputs": [
    {
     "data": {
      "text/plain": [
       "200"
      ]
     },
     "execution_count": 32,
     "metadata": {},
     "output_type": "execute_result"
    }
   ],
   "source": [
    "G.number_of_nodes()"
   ]
  },
  {
   "cell_type": "code",
   "execution_count": 33,
   "metadata": {},
   "outputs": [
    {
     "data": {
      "text/plain": [
       "283"
      ]
     },
     "execution_count": 33,
     "metadata": {},
     "output_type": "execute_result"
    }
   ],
   "source": [
    "G.number_of_edges()"
   ]
  },
  {
   "cell_type": "code",
   "execution_count": null,
   "metadata": {},
   "outputs": [],
   "source": []
  }
 ],
 "metadata": {
  "kernelspec": {
   "display_name": "Python 3",
   "language": "python",
   "name": "python3"
  },
  "language_info": {
   "codemirror_mode": {
    "name": "ipython",
    "version": 3
   },
   "file_extension": ".py",
   "mimetype": "text/x-python",
   "name": "python",
   "nbconvert_exporter": "python",
   "pygments_lexer": "ipython3",
   "version": "3.10.6"
  },
  "orig_nbformat": 4
 },
 "nbformat": 4,
 "nbformat_minor": 2
}
