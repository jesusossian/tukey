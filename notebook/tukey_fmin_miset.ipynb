{
  "cells": [
    {
      "cell_type": "code",
      "execution_count": 39,
      "metadata": {
        "collapsed": false
      },
      "outputs": [],
      "source": [
        "%matplotlib inline\n",
        "\n",
        "from pathlib import Path\n",
        "import matplotlib.pyplot as plt\n",
        "import networkx as nx\n",
        "import numpy as np\n",
        "from itertools import combinations\n",
        "import time as trun\n",
        "import igraph as ig\n",
        "\n",
        "import gurobipy as gp\n",
        "from gurobipy import GRB"
      ]
    },
    {
      "cell_type": "code",
      "execution_count": 40,
      "metadata": {},
      "outputs": [],
      "source": [
        "def is_subclique(G, nodelist):\n",
        "    '''\n",
        "    For each pair of nodes in nodelist whether there is an edge\n",
        "    if any edge is missing, we know that it's not a subclique.\n",
        "    if all edges are there, it is a subclique\n",
        "    '''\n",
        "    for (u,v) in combinations(nodelist,2):  #check each possible pair\n",
        "        if not G.has_edge(u,v):\n",
        "            return False #if any edge is missing we're done\n",
        "    return True  #if we get to here, then every edge was there.  It's True.\n"
      ]
    },
    {
      "cell_type": "code",
      "execution_count": 41,
      "metadata": {},
      "outputs": [],
      "source": [
        "#instance\n",
        "\n",
        "#inst_=\"internet_graph\"\n",
        "#dim_=75\n",
        "#id_=1\n",
        "#instance_=f\"{inst_}_{dim_}_{id_}\"\n",
        "#G = nx.read_gml(f\"../instances/{inst_}/{dim_}/{instance_}.gml.gz\",destringizer=int)\n",
        "\n",
        "#inst_=\"karate\"\n",
        "#instance_=f\"{inst_}\"\n",
        "#G = nx.read_gml(f\"../instances/{inst_}/{instance_}.gml.gz\",destringizer=int)\n",
        "\n",
        "#inst_=\"dodecahedral\"\n",
        "#instance_=f\"{inst_}\"\n",
        "#G = nx.read_gml(f\"../instances/{inst_}/{instance_}.gml.gz\",destringizer=int)\n",
        "\n",
        "#inst_=\"cube\"\n",
        "#instance_=f\"{inst_}\"\n",
        "#G = nx.read_gml(f\"../instances/{inst_}/{instance_}.gml.gz\",destringizer=int)\n",
        "\n",
        "inst_=\"circut_example\"\n",
        "instance_=f\"{inst_}\"\n",
        "G = nx.read_gml(f\"../instances/{inst_}/{instance_}.gml.gz\",destringizer=int)"
      ]
    },
    {
      "cell_type": "code",
      "execution_count": 42,
      "metadata": {},
      "outputs": [
        {
          "data": {
            "image/png": "[encoded data removed]",
            "text/plain": [
              "<Figure size 640x480 with 1 Axes>"
            ]
          },
          "metadata": {},
          "output_type": "display_data"
        }
      ],
      "source": [
        "nx.draw(G,  with_labels = True)"
      ]
    },
    {
      "cell_type": "code",
      "execution_count": 43,
      "metadata": {},
      "outputs": [
        {
          "data": {
            "text/plain": [
              "True"
            ]
          },
          "execution_count": 43,
          "metadata": {},
          "output_type": "execute_result"
        }
      ],
      "source": [
        "nx.is_connected(G)"
      ]
    },
    {
      "cell_type": "code",
      "execution_count": 44,
      "metadata": {},
      "outputs": [
        {
          "data": {
            "text/plain": [
              "3"
            ]
          },
          "execution_count": 44,
          "metadata": {},
          "output_type": "execute_result"
        }
      ],
      "source": [
        "nx.diameter(G)"
      ]
    },
    {
      "cell_type": "code",
      "execution_count": null,
      "metadata": {},
      "outputs": [],
      "source": []
    },
    {
      "cell_type": "code",
      "execution_count": 45,
      "metadata": {},
      "outputs": [],
      "source": [
        "N = nx.number_of_nodes(G)\n",
        "M = nx.number_of_edges(G)\n",
        "\n",
        "dm = np.zeros((N,N), dtype=int)\n",
        "\n",
        "p = nx.shortest_path(G)\n",
        "\n",
        "for i in range(0,N):\n",
        "    for j in range(0,N):\n",
        "        dm[i][j] = len(p[i][j])-1\n",
        "        #print(\"dist %d %d = %d\" %(i, j, dm[i,j]))"
      ]
    },
    {
      "cell_type": "code",
      "execution_count": 46,
      "metadata": {},
      "outputs": [],
      "source": [
        "#for i in G:\n",
        "#    Ni = nx.neighbors(G,i)\n",
        "#\n",
        "#    nodelist = []\n",
        "#    for k in Ni:\n",
        "#        nodelist.append(k)\n",
        "#    \n",
        "#    if(is_subclique(G, nodelist)):\n",
        "#        print(\"vizinhanca de %d\" %i)"
      ]
    },
    {
      "cell_type": "code",
      "execution_count": 47,
      "metadata": {},
      "outputs": [
        {
          "name": "stdout",
          "output_type": "stream",
          "text": [
            "3.0\n",
            "3.0\n",
            "3.0\n",
            "3.0\n",
            "3.0\n",
            "3.0\n"
          ]
        }
      ],
      "source": [
        "form_=\"fmin\"\n",
        "method_=\"mip\"\n",
        "\n",
        "N = nx.number_of_nodes(G)\n",
        "M = nx.number_of_edges(G)\n",
        "\n",
        "lb = np.zeros((N), dtype=float)\n",
        "ub = np.zeros((N), dtype=float)\n",
        "time = np.zeros((N), dtype=float)\n",
        "gap = np.zeros((N), dtype=float)\n",
        "nodes = np.zeros((N), dtype=float)\n",
        "status = np.zeros((N), dtype=float)\n",
        "\n",
        "for i in G:\n",
        "\n",
        "#    if i>0:\n",
        "#        continue\n",
        "\n",
        "    Ni = nx.neighbors(G,i)\n",
        "\n",
        "    listNi = []\n",
        "    for k in Ni:\n",
        "        listNi.append(k)\n",
        "\n",
        "    tstart = trun.time()\n",
        "    status_clique = is_subclique(G, listNi)\n",
        "    tend = trun.time()\n",
        "\n",
        "    elapsed_time = tend - tstart\n",
        "    \n",
        "    if(status_clique):\n",
        "        #print(\"tukey[%d] = 1\" %i)\n",
        "        lb[i] = 1\n",
        "        ub[i] = 1\n",
        "        gap[i] = 0.0\n",
        "        time[i] = elapsed_time\n",
        "        nodes[i] = 0\n",
        "        status[i] = 1\n",
        "\n",
        "    else:\n",
        "\n",
        "        model = gp.Model(f\"{instance_}\")\n",
        "\n",
        "        if (method_==\"mip\"):\n",
        "            x = model.addVars(N, vtype=GRB.BINARY, name=\"x\")\n",
        "        else:\n",
        "            x = model.addVars(N, lb=0.0, ub=1.0, vtype=GRB.CONTINUOUS, name=\"x\")\n",
        "    \n",
        "        obj = 0\n",
        "        for j in G:\n",
        "            obj += 1 * x[j]\n",
        "         \n",
        "        model.setObjective(obj, GRB.MINIMIZE)\n",
        "    \n",
        "        # configurando parametros\n",
        "        # model.Params.TimeLimit = 60\n",
        "        model.Params.MIPGap = 1.e-6\n",
        "        model.Params.Threads = 1\n",
        "        # model.Params.Presolve = 0\n",
        "        # model.Params.Cuts = 0\n",
        " \n",
        "        # Turn off display and heuristics\n",
        "        gp.setParam('OutputFlag', 0)\n",
        "        gp.setParam('Heuristics', 0)\n",
        "\n",
        "        model.addConstr(x[i] == 1, \"fix_x\")\n",
        "\n",
        "        # maximal independent set\n",
        "        for u in range(0,N):\n",
        "            #if u > 0:\n",
        "            #    continue\n",
        "\n",
        "            Nu = nx.neighbors(G,u)\n",
        "            \n",
        "            listNu = []\n",
        "            for j in Nu:\n",
        "                listNu.append(j)\n",
        "                \n",
        "            count = 0\n",
        "            dicl = {}\n",
        "            for it in listNu:\n",
        "                dicl[count] = it\n",
        "                count += 1\n",
        "\n",
        "            #print(dicl)\n",
        "                \n",
        "            T = nx.Graph()\n",
        "            T.add_nodes_from(listNu)\n",
        "            \n",
        "            for (a,b) in combinations(listNu,2):\n",
        "                if G.has_edge(a,b):\n",
        "                    T.add_edge(a,b)\n",
        "                    #Z.add_edges([(a,b)])\n",
        "\n",
        "            #nx.draw(T,  with_labels = True)\n",
        "            \n",
        "            A = ig.Graph.from_networkx(T)\n",
        "            #Im = nx.maximal_independent_set(T)\n",
        "            Im = A.maximal_independent_vertex_sets()\n",
        "            \n",
        "            tmp = len(Im)\n",
        "            if (tmp > 0):\n",
        "                #print(\"dim Im: %d\" %(tmp))\n",
        "                for itIm in Im:\n",
        "                    constr = 0\n",
        "                    for j in itIm:\n",
        "                        constr += 1 * x[dicl[j]]\n",
        "                    model.addConstr(constr >= (len(itIm) - 1)*x[u], \"miset\")\n",
        "\n",
        "            T.clear()\n",
        "\n",
        "            for w in range(u+1,N):\n",
        "                #if (dm[u,w] >= 3):\n",
        "                    if (w != u) and (w not in listNu):\n",
        "                        for s in listNu:\n",
        "                            if (s != w) and (dm[u,s] + dm[s,w] == dm[u,w]):\n",
        "                                #print(\"dm %d %d : %d\" %( u, w, dm[u,w]))\n",
        "                                model.addConstr(x[u] + x[w] >= x[s], \"geo_c3\")\n",
        "\n",
        "            listNu.clear()\n",
        "\n",
        "        model.write(f\"{instance_}.lp\")\n",
        "\n",
        "        model.optimize()\n",
        "\n",
        "        tmp = 0\n",
        "        if model.status == GRB.OPTIMAL:\n",
        "            tmp = 1\n",
        "    \n",
        "        if (method_==\"mip\"):\n",
        "            lb[i] = model.objBound\n",
        "            ub[i] = model.objVal\n",
        "            gap[i] = model.MIPGap\n",
        "            time[i] = model.Runtime\n",
        "            nodes[i] = model.NodeCount\n",
        "            status[i] = tmp\n",
        "        else:\n",
        "            ub[i] = model.objVal\n",
        "            time[i] = model.Runtime\n",
        "            status[i] = tmp\n",
        "\n",
        "        model.dispose()"
      ]
    },
    {
      "cell_type": "code",
      "execution_count": 48,
      "metadata": {},
      "outputs": [],
      "source": [
        "tksum = np.sum(ub)\n",
        "tkmax = np.max(ub)\n",
        "tktime = np.sum(time)"
      ]
    },
    {
      "cell_type": "code",
      "execution_count": null,
      "metadata": {},
      "outputs": [],
      "source": []
    },
    {
      "cell_type": "code",
      "execution_count": 49,
      "metadata": {},
      "outputs": [
        {
          "name": "stdout",
          "output_type": "stream",
          "text": [
            "vertice:0, lb: 3, ub: 3, gap: 0.00, time: 0.00, nodes: 0, status: 1 \n",
            "vertice:1, lb: 3, ub: 3, gap: 0.00, time: 0.00, nodes: 0, status: 1 \n",
            "vertice:2, lb: 3, ub: 3, gap: 0.00, time: 0.00, nodes: 0, status: 1 \n",
            "vertice:3, lb: 3, ub: 3, gap: 0.00, time: 0.00, nodes: 0, status: 1 \n",
            "vertice:4, lb: 3, ub: 3, gap: 0.00, time: 0.00, nodes: 0, status: 1 \n",
            "vertice:5, lb: 3, ub: 3, gap: 0.00, time: 0.00, nodes: 0, status: 1 \n",
            "tksum : 18.00\n",
            "tkmax : 3.00\n",
            "tktime : 0.00\n"
          ]
        }
      ],
      "source": [
        "if method_ == \"lp\":\n",
        "    for i in G:\n",
        "        print(\"vertice:%d, ub: %.2f, time: %.2f \" % (i, ub[i], time[i]))\n",
        "\n",
        "    print(\"tksum : %.2f\" %(tksum))\n",
        "    print(\"tkmax : %.2f\" %(tkmax))\n",
        "    print(\"tktime : %.2f\" %(tktime))\n",
        "\n",
        "if method_ == \"mip\":\n",
        "    for i in G:\n",
        "        print(\n",
        "            \"vertice:%d, lb: %d, ub: %d, gap: %.2f, time: %.2f, nodes: %d, status: %d \" \n",
        "            % (i, lb[i], ub[i], gap[i], time[i], nodes[i], status[i])\n",
        "            )\n",
        "\n",
        "    print(\"tksum : %.2f\" %(tksum))\n",
        "    print(\"tkmax : %.2f\" %(tkmax))\n",
        "    print(\"tktime : %.2f\" %(tktime))\n",
        "\n",
        "G.clear()"
      ]
    },
    {
      "cell_type": "code",
      "execution_count": null,
      "metadata": {},
      "outputs": [],
      "source": []
    }
  ],
  "metadata": {
    "kernelspec": {
      "display_name": "Python 3",
      "language": "python",
      "name": "python3"
    },
    "language_info": {
      "codemirror_mode": {
        "name": "ipython",
        "version": 3
      },
      "file_extension": ".py",
      "mimetype": "text/x-python",
      "name": "python",
      "nbconvert_exporter": "python",
      "pygments_lexer": "ipython3",
      "version": "3.10.6"
    }
  },
  "nbformat": 4,
  "nbformat_minor": 0
}
