{
  "cells": [
    {
      "cell_type": "code",
      "execution_count": 34,
      "metadata": {
        "collapsed": false
      },
      "outputs": [],
      "source": [
        "%matplotlib inline\n",
        "\n",
        "import urllib.request\n",
        "import io\n",
        "import zipfile\n",
        "\n",
        "from pathlib import Path\n",
        "import os\n",
        "\n",
        "import matplotlib.pyplot as plt\n",
        "import networkx as nx\n",
        "import numpy as np\n",
        "import pandas as pd\n",
        "import gurobipy as gp\n",
        "from gurobipy import GRB\n",
        "\n",
        "import igraph as ig\n",
        "\n",
        "from itertools import combinations"
      ]
    },
    {
      "cell_type": "code",
      "execution_count": 35,
      "metadata": {},
      "outputs": [],
      "source": [
        "def is_subclique(G, nodelist):\n",
        "    r'''For each pair of nodes in nodelist whether there is an edge\n",
        "        if any edge is missing, we know that it's not a subclique.\n",
        "        if all edges are there, it is a subclique\n",
        "    '''\n",
        "    for (u,v) in combinations(nodelist,2):  #check each possible pair\n",
        "        if not G.has_edge(u,v):\n",
        "            return False #if any edge is missing we're done\n",
        "    return True  #if we get to here, then every edge was there.  It's True.\n"
      ]
    },
    {
      "cell_type": "code",
      "execution_count": 36,
      "metadata": {},
      "outputs": [],
      "source": [
        "#instance\n",
        "\n",
        "inst_=\"karate\"\n",
        "G = nx.karate_club_graph()\n",
        "\n",
        "#inst_=\"sudoku\"\n",
        "#G = nx.sudoku_graph(50)\n",
        "\n",
        "#inst_=\"random_tree\"\n",
        "#G = nx.random_tree(50)\n",
        "\n",
        "#inst_=\"erdos\"\n",
        "#GI = ig.Graph.Erdos_Renyi(n=50, p=0.2, directed=False, loops=False)\n",
        "#A = ig.Graph.get_edgelist(GI)\n",
        "#G = nx.DiGraph(A)\n",
        "#G = nx.Graph(A)\n",
        "#G = ig.Graph.to_networkx(GI)\n",
        "#ig.plot(GI)\n",
        "\n",
        "#inst_=\"random_internet_100\"\n",
        "#G = nx.random_internet_as_graph(100)\n",
        "\n",
        "# erdos_renyi_graph(n, p, seed=None, directed=False)\n",
        "#G = nx.erdos_renyi_graph(50,0.1)\n",
        "\n",
        "# barabasi_albert_graph(n, m, seed=None, initial_graph=None)\n",
        "#G = nx.barabasi_albert_graph()\n",
        "\n",
        "#print(\"Node Degree\")\n",
        "#for v in G:\n",
        "#    print(f\"{v:4} {G.degree(v):6}\")\n",
        "#print(G)\n"
      ]
    },
    {
      "cell_type": "code",
      "execution_count": 37,
      "metadata": {},
      "outputs": [
        {
          "data": {
            "text/plain": [
              "True"
            ]
          },
          "execution_count": 37,
          "metadata": {},
          "output_type": "execute_result"
        }
      ],
      "source": [
        "nx.is_connected(G)"
      ]
    },
    {
      "cell_type": "code",
      "execution_count": 38,
      "metadata": {},
      "outputs": [],
      "source": [
        "#if (0,1) in G.edges:\n",
        "#    print(\"yes\")\n",
        "#else:\n",
        "#    print(\"no\")\n",
        "\n",
        "#for e in G.edges:\n",
        "#    (u,w) = e\n",
        "#    print(u, w, e)"
      ]
    },
    {
      "cell_type": "code",
      "execution_count": 39,
      "metadata": {},
      "outputs": [],
      "source": [
        "#print(list(G.nodes))\n",
        "#print(list(G.edges))\n",
        "#list(G.adj[1])  # or list(G.neighbors(1))\n",
        "#G.degree[1]  # the number of edges incident to 1\n",
        "#G[1]  # same as G.adj[1]\n",
        "#nx.maximal_independent_set(G) "
      ]
    },
    {
      "cell_type": "code",
      "execution_count": 40,
      "metadata": {},
      "outputs": [
        {
          "data": {
            "text/plain": [
              "False"
            ]
          },
          "execution_count": 40,
          "metadata": {},
          "output_type": "execute_result"
        }
      ],
      "source": [
        "#N = nx.neighbors(G,1)\n",
        "#for i in N:\n",
        "#    print(i)\n",
        "\n",
        "\n",
        "N1 = nx.Graph.neighbors(G,1)\n",
        "#list(N1.nodes)\n",
        "lista = []\n",
        "\n",
        "for i in N1:\n",
        "    #print(i)\n",
        "    lista.append(i)\n",
        "#N1\n",
        "#N1.nodes\n",
        "#lista\n",
        "\n",
        "#for i in nx.find_cliques(G,lista):\n",
        "#    print(i)\n",
        "\n",
        "#nx.enumerate_all_cliques(N1)\n",
        "\n",
        "#sum(1 for c in nx.find_cliques(G,lista))\n",
        "#max(len(c) for c in nx.find_cliques(G,lista))\n",
        "is_subclique(G, lista)\n"
      ]
    },
    {
      "cell_type": "code",
      "execution_count": 7,
      "metadata": {},
      "outputs": [],
      "source": [
        "#path = nx.single_source_dijkstra_path(G, 0)\n",
        "#path"
      ]
    },
    {
      "cell_type": "code",
      "execution_count": 8,
      "metadata": {},
      "outputs": [],
      "source": [
        "#nx.draw(G, with_labels=True)\n",
        "#plt.show()"
      ]
    },
    {
      "cell_type": "code",
      "execution_count": null,
      "metadata": {},
      "outputs": [],
      "source": []
    },
    {
      "cell_type": "code",
      "execution_count": 9,
      "metadata": {},
      "outputs": [],
      "source": [
        "N = nx.number_of_nodes(G)\n",
        "M = nx.number_of_edges(G)\n",
        "\n",
        "dm = np.zeros((N,N), dtype=int)\n",
        "\n",
        "p = nx.shortest_path(G)\n",
        "\n",
        "for i in range(0,N):\n",
        "    for j in range(0,N):\n",
        "        dm[i][j] = len(p[i][j])-1\n",
        "\n",
        "#G.edges\n"
      ]
    },
    {
      "cell_type": "code",
      "execution_count": 22,
      "metadata": {},
      "outputs": [
        {
          "name": "stdout",
          "output_type": "stream",
          "text": [
            "Set parameter Username\n",
            "Academic license - for non-commercial use only - expires 2023-12-01\n",
            "Set parameter MIPGap to value 1e-06\n",
            "Set parameter Threads to value 1\n"
          ]
        }
      ],
      "source": [
        "# form0\n",
        "form_=\"form0\"\n",
        "method_=\"mip\"\n",
        "\n",
        "N = nx.number_of_nodes(G)\n",
        "M = nx.number_of_edges(G)\n",
        "\n",
        "lb = np.zeros((N), dtype=float)\n",
        "ub = np.zeros((N), dtype=float)\n",
        "time = np.zeros((N), dtype=float)\n",
        "gap = np.zeros((N), dtype=float)\n",
        "nodes = np.zeros((N), dtype=float)\n",
        "status_ = np.zeros((N), dtype=float)\n",
        "\n",
        "RESULT_PATH   = Path('../result/')\n",
        "\n",
        "for i in G:\n",
        "\n",
        "    Ni = nx.neighbors(G,i)\n",
        "\n",
        "    model = gp.Model(f\"{method_}_{inst_}_{form_}\")\n",
        "\n",
        "    if (method_==\"mip\"):\n",
        "        x = model.addVars(N, vtype=GRB.BINARY, name=\"x\")\n",
        "    else:\n",
        "        x = model.addVars(N, lb=0.0, ub=1.0, vtype=GRB.CONTINUOUS, name=\"x\")\n",
        "    \n",
        "    obj = 0\n",
        "    for j in G:\n",
        "        obj += 1 * x[j]\n",
        "         \n",
        "    model.setObjective(obj, GRB.MINIMIZE)\n",
        "    \n",
        "    # configurando parametros\n",
        "    # model.Params.TimeLimit = 60\n",
        "    model.Params.MIPGap = 1.e-6\n",
        "    model.Params.Threads = 1\n",
        "    # model.Params.Presolve = 0\n",
        "    # model.Params.Cuts = 0\n",
        " \n",
        "    # Turn off display and heuristics\n",
        "    gp.setParam('OutputFlag', 0)\n",
        "    gp.setParam('Heuristics', 0)\n",
        "\n",
        "    constr0 = 0\n",
        "    constr0 += 1*x[i]\n",
        "    model.addConstr(constr0 == 1)\n",
        "\n",
        "    for u in range(0,N):\n",
        "        for w in range(u+1,N):\n",
        "            if dm[u,w] <= N:\n",
        "                for s in range(0,N):\n",
        "                    if (s != u) and (s != w):\n",
        "                        if (dm[u,s] + dm[s,w] == dm[u,w]):\n",
        "                            constr1 = x[u] + x[w]\n",
        "                            model.addConstr(constr1 >= x[s])\n",
        "\n",
        "    #x[i].Start = 1.0\n",
        "    #relax = model.relax()    \n",
        "    #relax.optimize()\n",
        "    \n",
        "    #model.write(f\"{method_}_{inst_}_{form_}.lp\")\n",
        "\n",
        "    model.optimize()\n",
        "\n",
        "    tmp = 0\n",
        "    if model.status == GRB.OPTIMAL:\n",
        "        tmp = 1\n",
        "    \n",
        "    if (method_==\"mip\"):\n",
        "        lb[i] = model.objBound\n",
        "        ub[i] = model.objVal\n",
        "        gap[i] = model.MIPGap\n",
        "        time[i] = model.Runtime\n",
        "        nodes[i] = model.NodeCount\n",
        "        status_[i] = tmp\n",
        "    else:\n",
        "        ub[i] = model.objVal\n",
        "        time[i] = model.Runtime\n",
        "        status_[i] = tmp\n",
        "\n",
        "    if (method_==\"mip\"):\n",
        "        arquivo = open(os.path.join(RESULT_PATH,f\"{method_}_tukey_{inst_}_{form_}.txt\"),'a')\n",
        "        tmp = i\n",
        "        arquivo.write(\n",
        "            str(tmp)+';'\n",
        "            +str(round(lb[i],1))+';'\n",
        "            +str(round(ub[i],1))+';'\n",
        "            +str(round(gap[i],2))+';'\n",
        "            +str(round(time[i],2))+';'\n",
        "            +str(round(nodes[i],1))+';'\n",
        "            +str(round(status_[i],1))+'\\n')\n",
        "        arquivo.close()\n",
        "    else:\n",
        "        arquivo = open(os.path.join(RESULT_PATH,f\"{method_}_tukey_{inst_}_{form_}.txt\"),'a')\n",
        "        tmp = i\n",
        "        arquivo.write(\n",
        "            str(tmp)+';'\n",
        "            +str(round(ub[i],1))+';'\n",
        "            +str(round(time[i],2))+';'\n",
        "            +str(round(status_[i],1))+'\\n')\n",
        "        arquivo.close()"
      ]
    },
    {
      "cell_type": "code",
      "execution_count": 23,
      "metadata": {},
      "outputs": [],
      "source": [
        "#t = 0\n",
        "#for i in ub:\n",
        "#    print(\"tukey[%d] =\" %t, end=\" \")\n",
        "#    print(\"%g\" %i)\n",
        "#    t = t+1"
      ]
    }
  ],
  "metadata": {
    "kernelspec": {
      "display_name": "Python 3",
      "language": "python",
      "name": "python3"
    },
    "language_info": {
      "codemirror_mode": {
        "name": "ipython",
        "version": 3
      },
      "file_extension": ".py",
      "mimetype": "text/x-python",
      "name": "python",
      "nbconvert_exporter": "python",
      "pygments_lexer": "ipython3",
      "version": "3.10.6"
    }
  },
  "nbformat": 4,
  "nbformat_minor": 0
}
