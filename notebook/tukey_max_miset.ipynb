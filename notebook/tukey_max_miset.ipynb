{
  "cells": [
    {
      "cell_type": "code",
      "execution_count": 2,
      "metadata": {
        "collapsed": false
      },
      "outputs": [],
      "source": [
        "%matplotlib inline\n",
        "\n",
        "import urllib.request\n",
        "import io\n",
        "import zipfile\n",
        "\n",
        "from pathlib import Path\n",
        "import os\n",
        "\n",
        "import matplotlib.pyplot as plt\n",
        "import networkx as nx\n",
        "import numpy as np\n",
        "import pandas as pd\n",
        "import gurobipy as gp\n",
        "from gurobipy import GRB\n",
        "\n",
        "import igraph as ig\n",
        "\n",
        "import random\n",
        "\n",
        "from itertools import combinations"
      ]
    },
    {
      "cell_type": "code",
      "execution_count": 3,
      "metadata": {},
      "outputs": [],
      "source": [
        "#instance\n",
        "inst_=\"internet_graph\"\n",
        "dim_=100\n",
        "id_=1\n",
        "G = nx.read_gml(f\"../instances/{inst_}/{dim_}/{inst_}_{dim_}_{id_}.gml.gz\",destringizer=int)"
      ]
    },
    {
      "cell_type": "code",
      "execution_count": 4,
      "metadata": {},
      "outputs": [
        {
          "data": {
            "text/plain": [
              "True"
            ]
          },
          "execution_count": 4,
          "metadata": {},
          "output_type": "execute_result"
        }
      ],
      "source": [
        "nx.is_connected(G)"
      ]
    },
    {
      "cell_type": "code",
      "execution_count": 5,
      "metadata": {},
      "outputs": [],
      "source": [
        "def listComplement(list1, list2):\n",
        "    store = []\n",
        "\n",
        "    for num in list1:\n",
        "        if num not in list2:\n",
        "            store.append(num)\n",
        "\n",
        "    return store"
      ]
    },
    {
      "cell_type": "code",
      "execution_count": 6,
      "metadata": {},
      "outputs": [
        {
          "name": "stdout",
          "output_type": "stream",
          "text": [
            "[0, 1, 2, 3, 4, 5, 6, 7, 8, 9, 10, 11, 12, 13, 14, 15, 16, 17, 18, 19, 20, 21, 22, 23, 24, 25, 26, 27, 28, 29, 30, 31, 32, 33, 34, 35, 36, 37, 38, 39, 40, 41, 42, 43, 44, 45, 46, 47, 48, 49, 50, 51, 52, 53, 54, 55, 56, 57, 58, 59, 60, 61, 62, 63, 64, 65, 66, 67, 68, 69, 70, 71, 72, 73, 74, 75, 76, 77, 78, 79, 80, 81, 82, 83, 84, 85, 86, 87, 88, 89, 90, 91, 92, 93, 94, 95, 96, 97, 98, 99]\n",
            "[44, 4, 88, 33, 56, 22, 1, 85, 90, 50, 64, 78, 36, 66, 18, 91, 20, 14, 59, 48, 57, 12, 13, 52, 26, 84, 35, 3, 99, 0, 31, 51, 46]\n",
            "[2, 5, 6, 7, 8, 9, 10, 11, 15, 16, 17, 19, 21, 23, 24, 25, 27, 28, 29, 30, 32, 34, 37, 38, 39, 40, 41, 42, 43, 45, 47, 49, 53, 54, 55, 58, 60, 61, 62, 63, 65, 67, 68, 69, 70, 71, 72, 73, 74, 75, 76, 77, 79, 80, 81, 82, 83, 86, 87, 89, 92, 93, 94, 95, 96, 97, 98]\n"
          ]
        }
      ],
      "source": [
        "list0 = []\n",
        "for i in G:\n",
        "    list0.append(i)\n",
        "\n",
        "print(list0)\n",
        "\n",
        "dim = len(G)\n",
        "list1 = random.sample(list0, k=int(dim/3))\n",
        "print(list1)\n",
        "tmp = listComplement(list0, list1)\n",
        "\n",
        "print(tmp)"
      ]
    },
    {
      "cell_type": "code",
      "execution_count": 7,
      "metadata": {},
      "outputs": [],
      "source": [
        "def is_subclique(G, nodelist):\n",
        "    '''\n",
        "    For each pair of nodes in nodelist whether there is an edge \n",
        "    if any edge is missing, we know that it's not a subclique.\n",
        "    if all edges are there, it is a subclique\n",
        "    '''\n",
        "    for (u,v) in combinations(nodelist,2):  #check each possible pair\n",
        "        if not G.has_edge(u,v):\n",
        "            return False #if any edge is missing we're done\n",
        "    return True  #if we get to here, then every edge was there.  It's True."
      ]
    },
    {
      "cell_type": "code",
      "execution_count": 8,
      "metadata": {},
      "outputs": [],
      "source": [
        "def is_mindset(G, nodelist):\n",
        "    for (u,v) in combinations(nodelist,2):\n",
        "        if G.has_edge(u,v):\n",
        "            return False\n",
        "    return True"
      ]
    },
    {
      "cell_type": "code",
      "execution_count": 9,
      "metadata": {},
      "outputs": [],
      "source": [
        "N = nx.number_of_nodes(G)\n",
        "M = nx.number_of_edges(G)\n",
        "\n",
        "dm = np.zeros((N,N), dtype=int)\n",
        "\n",
        "p = nx.shortest_path(G)\n",
        "\n",
        "for i in range(0,N):\n",
        "    for j in range(0,N):\n",
        "        dm[i][j] = len(p[i][j])-1\n",
        "\n",
        "#G.edges\n"
      ]
    },
    {
      "cell_type": "code",
      "execution_count": null,
      "metadata": {},
      "outputs": [],
      "source": []
    },
    {
      "cell_type": "code",
      "execution_count": 10,
      "metadata": {},
      "outputs": [],
      "source": [
        "#for i in G:\n",
        "#    Ni = nx.neighbors(G,i)\n",
        "\n",
        "#    nodelist = []\n",
        "#    for k in Ni:\n",
        "#        nodelist.append(k)\n",
        "    \n",
        "#    if(is_subclique(G, nodelist)):\n",
        "#        print(\"vizinhanca de %d\" %i)\n"
      ]
    },
    {
      "cell_type": "code",
      "execution_count": 11,
      "metadata": {},
      "outputs": [
        {
          "name": "stdout",
          "output_type": "stream",
          "text": [
            "[0, 9]\n"
          ]
        },
        {
          "data": {
            "image/png": "[encoded data removed]",
            "text/plain": [
              "<Figure size 640x480 with 1 Axes>"
            ]
          },
          "metadata": {},
          "output_type": "display_data"
        }
      ],
      "source": [
        "#for u in range(0,N):\n",
        "Nu = nx.neighbors(G,1)\n",
        "\n",
        "list0 = []\n",
        "for k in Nu:\n",
        "    list0.append(k)\n",
        "\n",
        "#print(list0)\n",
        "\n",
        "T = nx.Graph()\n",
        "T.add_nodes_from(list0)\n",
        "for (a,b) in combinations(list0,2):\n",
        "    if G.has_edge(a,b):\n",
        "        T.add_edge(a,b)\n",
        "\n",
        "Im = nx.maximal_independent_set(T)\n",
        "\n",
        "print(Im)\n",
        "\n",
        "nx.draw(T,  with_labels = True)"
      ]
    },
    {
      "cell_type": "code",
      "execution_count": null,
      "metadata": {},
      "outputs": [],
      "source": []
    },
    {
      "cell_type": "code",
      "execution_count": 12,
      "metadata": {},
      "outputs": [
        {
          "name": "stdout",
          "output_type": "stream",
          "text": [
            "Set parameter Username\n",
            "Academic license - for non-commercial use only - expires 2024-03-15\n",
            "Set parameter MIPGap to value 1e-06\n",
            "Set parameter Threads to value 1\n"
          ]
        }
      ],
      "source": [
        "# form1\n",
        "form_=\"fmax_miset\"\n",
        "method_=\"mip\"\n",
        "\n",
        "N = nx.number_of_nodes(G)\n",
        "M = nx.number_of_edges(G)\n",
        "\n",
        "lb = np.zeros((N), dtype=float)\n",
        "ub = np.zeros((N), dtype=float)\n",
        "time = np.zeros((N), dtype=float)\n",
        "gap = np.zeros((N), dtype=float)\n",
        "nodes = np.zeros((N), dtype=float)\n",
        "status = np.zeros((N), dtype=float)\n",
        "\n",
        "RESULT_PATH   = Path('../result/')\n",
        "\n",
        "for i in G:\n",
        "\n",
        "#    if i!=1:\n",
        "#        continue\n",
        "\n",
        "#    print(\"node :  %d\" %i)\n",
        "\n",
        "    Ni = nx.neighbors(G,i)\n",
        "\n",
        "    list0 = []\n",
        "    for k in Ni:\n",
        "        list0.append(k)\n",
        "    \n",
        "    if(is_subclique(G, list0)):\n",
        "        #print(\"tukey[%d] = 1\" %i)\n",
        "        lb[i] = 1\n",
        "        ub[i] = 1\n",
        "        gap[i] = 0.0\n",
        "        time[i] = 0.0\n",
        "        nodes[i] = 0\n",
        "        status[i] = 1\n",
        "    else:\n",
        "\n",
        "        model = gp.Model(f\"{method_}_{inst_}_{form_}\")\n",
        "\n",
        "        # configurando parametros\n",
        "        # model.Params.TimeLimit = 60\n",
        "        model.Params.MIPGap = 1.e-6\n",
        "        model.Params.Threads = 1\n",
        "        # model.Params.Presolve = 0\n",
        "        # model.Params.Cuts = 0\n",
        "\n",
        "        if (method_==\"mip\"):\n",
        "            x = model.addVars(N, vtype=GRB.BINARY, name=\"x\")\n",
        "        else:\n",
        "            x = model.addVars(N, lb=0.0, ub=1.0, vtype=GRB.CONTINUOUS, name=\"x\")\n",
        "\n",
        "        #list1 = list(tuple())\n",
        "        #for u in range(0, N):\n",
        "        #    for w in range(u+1, N):\n",
        "        #        list1.append((u,w))\n",
        "\n",
        "        #y = model.addVars(list1, vtype=GRB.CONTINUOUS, name='y')\n",
        "#        y = model.addVars(list1, vtype=GRB.BINARY, name='y')\n",
        "   \n",
        "        obj = 0\n",
        "        for j in G:\n",
        "            obj += 1 * x[j]\n",
        "         \n",
        "        model.setObjective(obj, GRB.MAXIMIZE)\n",
        "     \n",
        "        # Turn off display and heuristics\n",
        "        gp.setParam('OutputFlag', 0)\n",
        "        gp.setParam('Heuristics', 0)\n",
        "\n",
        "        model.addConstr(x[i] == 0, \"fix_x\")\n",
        "\n",
        "        for u in range(0,N):\n",
        "            for w in range(u+1,N):\n",
        "                #if dm[u,w] <= N:\n",
        "                    for s in range(0,N):\n",
        "                        if (s != u) and (s != w):\n",
        "                            if (dm[u,s] + dm[s,w] == dm[u,w]):\n",
        "                                model.addConstr(x[u] + x[w] <= 1 + x[s], \"geodesic\")\n",
        "\n",
        "\n",
        "        # maximal independent set constraints\n",
        "        for u in range(0,N):\n",
        "            Nu = nx.neighbors(G,u)\n",
        "            list2 = []\n",
        "            for k in Nu:\n",
        "                list2.append(k)\n",
        "\n",
        "            T = nx.Graph()\n",
        "            T.add_nodes_from(list2)\n",
        "            for (a,b) in combinations(list2,2):\n",
        "                if G.has_edge(a,b):\n",
        "                    T.add_edge(a,b)\n",
        "\n",
        "            #nx.draw(T,  with_labels = True)\n",
        "\n",
        "            Im = nx.maximal_independent_set(T)\n",
        "\n",
        "#           print(u)\n",
        "#           print(list2)\n",
        "#           print(Im)\n",
        "\n",
        "#            if (len(Im) > 0):\n",
        "#                if (u == i):\n",
        "#                    #Im = nx.maximal_independent_set(T)\n",
        "#                    constr = 0\n",
        "#                    for k in Im:\n",
        "#                        constr += 1 * x[k]\n",
        "#                    model.addConstr(constr <= 1, \"set_indep0\")\n",
        "#                else:\n",
        "#                    #Im = nx.maximal_independent_set(T)\n",
        "#                    constr = 0\n",
        "#                    for k in Im:\n",
        "#                        constr += 1 * x[k]\n",
        "#                    model.addConstr(constr <= 1 + (len(Im)- 1)*x[u], \"set_indep1\")\n",
        "\n",
        "            if (len(Im) > 0):\n",
        "                    constr = 0\n",
        "                    for k in Im:\n",
        "                        constr += 1 * x[k]\n",
        "                    model.addConstr(constr <= 1 + (len(Im)- 1)*x[u], \"max_ind_set\")\n",
        "\n",
        "            T.clear()\n",
        "\n",
        "        #x[i].Start = 0.0\n",
        "        #relax = model.relax()\n",
        "        #relax.optimize()\n",
        "\n",
        "        #model.write(f\"{method_}_{inst_}_{form_}.lp\")\n",
        "\n",
        "        model.optimize()\n",
        "\n",
        "        tmp = 0\n",
        "        if model.status == GRB.OPTIMAL:\n",
        "            tmp = 1\n",
        "    \n",
        "        if (method_==\"mip\"):\n",
        "            lb[i] = N - model.objBound\n",
        "            ub[i] = N - model.objVal\n",
        "            gap[i] = model.MIPGap\n",
        "            time[i] = model.Runtime\n",
        "            nodes[i] = model.NodeCount\n",
        "            status[i] = tmp\n",
        "        else:\n",
        "            ub[i] = N - model.objVal\n",
        "            time[i] = model.Runtime\n",
        "            status[i] = tmp\n",
        "\n",
        "    if (method_==\"mip\"):\n",
        "        arquivo = open(os.path.join(RESULT_PATH,f\"{method_}_{form_}_{inst_}_{dim_}_{id_}.txt\"),'a')\n",
        "        tmp = i\n",
        "        arquivo.write(\n",
        "            str(tmp)+';'\n",
        "            +str(round(lb[i],1))+';'\n",
        "            +str(round(ub[i],1))+';'\n",
        "            +str(round(gap[i],2))+';'\n",
        "            +str(round(time[i],2))+';'\n",
        "            +str(round(nodes[i],1))+';'\n",
        "            +str(round(status[i],1))+'\\n')\n",
        "        arquivo.close()\n",
        "    else:\n",
        "        arquivo = open(os.path.join(RESULT_PATH,f\"{method_}_{form_}_{inst_}_{dim_}_{id_}.txt\"),'a')\n",
        "        tmp = i\n",
        "        arquivo.write(\n",
        "            str(tmp)+';'\n",
        "            +str(round(ub[i],1))+';'\n",
        "            +str(round(time[i],2))+';'\n",
        "            +str(round(status[i],1))+'\\n')\n",
        "        arquivo.close()\n",
        "\n",
        "tkm = np.sum(ub)\n",
        "tktime = np.sum(time)"
      ]
    },
    {
      "cell_type": "code",
      "execution_count": null,
      "metadata": {},
      "outputs": [],
      "source": []
    },
    {
      "cell_type": "code",
      "execution_count": 43,
      "metadata": {},
      "outputs": [
        {
          "name": "stdout",
          "output_type": "stream",
          "text": [
            "node:0, lb: 21, ub: 21, gap: 0.00, time: 0.03, nodes: 1, status: 1 \n",
            "node:1, lb: 21, ub: 21, gap: 0.00, time: 0.14, nodes: 5, status: 1 \n",
            "node:2, lb: 19, ub: 19, gap: 0.00, time: 0.02, nodes: 1, status: 1 \n",
            "node:3, lb: 3, ub: 3, gap: 0.00, time: 0.00, nodes: 1, status: 1 \n",
            "node:4, lb: 2, ub: 2, gap: 0.00, time: 0.00, nodes: 1, status: 1 \n",
            "node:5, lb: 3, ub: 3, gap: 0.00, time: 0.00, nodes: 1, status: 1 \n",
            "node:6, lb: 3, ub: 3, gap: 0.00, time: 0.00, nodes: 1, status: 1 \n",
            "node:7, lb: 1, ub: 1, gap: 0.00, time: 0.00, nodes: 0, status: 1 \n",
            "node:8, lb: 19, ub: 19, gap: 0.00, time: 0.06, nodes: 3, status: 1 \n",
            "node:9, lb: 19, ub: 19, gap: 0.00, time: 0.21, nodes: 7, status: 1 \n",
            "node:10, lb: 2, ub: 2, gap: 0.00, time: 0.00, nodes: 1, status: 1 \n",
            "node:11, lb: 1, ub: 1, gap: 0.00, time: 0.00, nodes: 0, status: 1 \n",
            "node:12, lb: 1, ub: 1, gap: 0.00, time: 0.00, nodes: 0, status: 1 \n",
            "node:13, lb: 19, ub: 19, gap: 0.00, time: 0.05, nodes: 5, status: 1 \n",
            "node:14, lb: 1, ub: 1, gap: 0.00, time: 0.00, nodes: 0, status: 1 \n",
            "node:15, lb: 1, ub: 1, gap: 0.00, time: 0.00, nodes: 0, status: 1 \n",
            "node:16, lb: 1, ub: 1, gap: 0.00, time: 0.00, nodes: 0, status: 1 \n",
            "node:17, lb: 1, ub: 1, gap: 0.00, time: 0.00, nodes: 0, status: 1 \n",
            "node:18, lb: 1, ub: 1, gap: 0.00, time: 0.00, nodes: 0, status: 1 \n",
            "node:19, lb: 19, ub: 19, gap: 0.00, time: 0.07, nodes: 7, status: 1 \n",
            "node:20, lb: 1, ub: 1, gap: 0.00, time: 0.00, nodes: 0, status: 1 \n",
            "node:21, lb: 1, ub: 1, gap: 0.00, time: 0.00, nodes: 0, status: 1 \n",
            "node:22, lb: 1, ub: 1, gap: 0.00, time: 0.00, nodes: 0, status: 1 \n",
            "node:23, lb: 19, ub: 19, gap: 0.00, time: 0.20, nodes: 9, status: 1 \n",
            "node:24, lb: 19, ub: 19, gap: 0.00, time: 0.13, nodes: 9, status: 1 \n",
            "node:25, lb: 19, ub: 19, gap: 0.00, time: 0.18, nodes: 10, status: 1 \n",
            "node:26, lb: 1, ub: 1, gap: 0.00, time: 0.00, nodes: 0, status: 1 \n",
            "node:27, lb: 19, ub: 19, gap: 0.00, time: 0.19, nodes: 2, status: 1 \n",
            "node:28, lb: 19, ub: 19, gap: 0.00, time: 0.13, nodes: 3, status: 1 \n",
            "node:29, lb: 2, ub: 2, gap: 0.00, time: 0.00, nodes: 1, status: 1 \n",
            "node:30, lb: 19, ub: 19, gap: 0.00, time: 0.20, nodes: 6, status: 1 \n",
            "node:31, lb: 19, ub: 19, gap: 0.00, time: 0.04, nodes: 1, status: 1 \n",
            "node:32, lb: 19, ub: 19, gap: 0.00, time: 0.06, nodes: 3, status: 1 \n",
            "node:33, lb: 19, ub: 19, gap: 0.00, time: 0.02, nodes: 1, status: 1 \n",
            "tkm : 335.00\n",
            "tkm : 1.75\n"
          ]
        }
      ],
      "source": [
        "if method_ == \"lp\":\n",
        "    for i in G:\n",
        "        print(\n",
        "            \"node:%d, ub: %2f, time: %2f \" % (i, ub[i], time[i])\n",
        "            )\n",
        "    \n",
        "    print(\"tkm : %.2f\" %(tkm))\n",
        "    print(\"tkm : %.2f\" %(tktime))\n",
        "\n",
        "if method_ == \"mip\":\n",
        "    for i in G:\n",
        "        print(\n",
        "            \"node:%d, lb: %d, ub: %d, gap: %.2f, time: %.2f, nodes: %d, status: %d \" \n",
        "            % (i, lb[i], ub[i], gap[i], time[i], nodes[i], status[i])\n",
        "            )\n",
        "    \n",
        "    print(\"tkm : %.2f\" %(tkm))\n",
        "    print(\"tkm : %.2f\" %(tktime))"
      ]
    },
    {
      "cell_type": "code",
      "execution_count": null,
      "metadata": {},
      "outputs": [],
      "source": []
    },
    {
      "cell_type": "code",
      "execution_count": null,
      "metadata": {},
      "outputs": [],
      "source": []
    }
  ],
  "metadata": {
    "kernelspec": {
      "display_name": "Python 3",
      "language": "python",
      "name": "python3"
    },
    "language_info": {
      "codemirror_mode": {
        "name": "ipython",
        "version": 3
      },
      "file_extension": ".py",
      "mimetype": "text/x-python",
      "name": "python",
      "nbconvert_exporter": "python",
      "pygments_lexer": "ipython3",
      "version": "3.10.6"
    }
  },
  "nbformat": 4,
  "nbformat_minor": 0
}
