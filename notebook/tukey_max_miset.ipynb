{
  "cells": [
    {
      "cell_type": "code",
      "execution_count": 1,
      "metadata": {
        "collapsed": false
      },
      "outputs": [],
      "source": [
        "%matplotlib inline\n",
        "\n",
        "from pathlib import Path\n",
        "import os\n",
        "\n",
        "import networkx as nx\n",
        "import numpy as np\n",
        "\n",
        "import gurobipy as gp\n",
        "from gurobipy import GRB\n",
        "\n",
        "import random\n",
        "\n",
        "from itertools import combinations"
      ]
    },
    {
      "cell_type": "code",
      "execution_count": 2,
      "metadata": {},
      "outputs": [],
      "source": [
        "#instance\n",
        "\n",
        "#inst_=\"internet_graph\"\n",
        "#dim_=75\n",
        "#id_=1\n",
        "#instance_=f\"{inst_}_{dim_}_{id_}\"\n",
        "#G = nx.read_gml(f\"../instances/{inst_}/{dim_}/{instance_}.gml.gz\",destringizer=int)\n",
        "\n",
        "inst_=\"karate\"\n",
        "instance_=f\"{inst_}\"\n",
        "G = nx.read_gml(f\"../instances/{inst_}/{instance_}.gml.gz\",destringizer=int)"
      ]
    },
    {
      "cell_type": "code",
      "execution_count": 3,
      "metadata": {},
      "outputs": [
        {
          "data": {
            "text/plain": [
              "True"
            ]
          },
          "execution_count": 3,
          "metadata": {},
          "output_type": "execute_result"
        }
      ],
      "source": [
        "nx.is_connected(G)"
      ]
    },
    {
      "cell_type": "code",
      "execution_count": 4,
      "metadata": {},
      "outputs": [],
      "source": [
        "def is_subclique(G, nodelist):\n",
        "    '''\n",
        "    For each pair of nodes in nodelist whether there is an edge \n",
        "    if any edge is missing, we know that it's not a subclique.\n",
        "    if all edges are there, it is a subclique\n",
        "    '''\n",
        "    for (u,v) in combinations(nodelist,2):  #check each possible pair\n",
        "        if not G.has_edge(u,v):\n",
        "            return False #if any edge is missing we're done\n",
        "    return True  #if we get to here, then every edge was there.  It's True."
      ]
    },
    {
      "cell_type": "code",
      "execution_count": 5,
      "metadata": {},
      "outputs": [],
      "source": [
        "def is_maxindset(G, nodelist):\n",
        "    for (u,v) in combinations(nodelist,2):\n",
        "        if G.has_edge(u,v):\n",
        "            return False\n",
        "    return True"
      ]
    },
    {
      "cell_type": "code",
      "execution_count": 6,
      "metadata": {},
      "outputs": [],
      "source": [
        "N = nx.number_of_nodes(G)\n",
        "M = nx.number_of_edges(G)\n",
        "\n",
        "dm = np.zeros((N,N), dtype=int)\n",
        "\n",
        "p = nx.shortest_path(G)\n",
        "\n",
        "for i in range(0,N):\n",
        "    for j in range(0,N):\n",
        "        dm[i][j] = len(p[i][j])-1"
      ]
    },
    {
      "cell_type": "code",
      "execution_count": null,
      "metadata": {},
      "outputs": [],
      "source": []
    },
    {
      "cell_type": "code",
      "execution_count": 7,
      "metadata": {},
      "outputs": [],
      "source": [
        "#for i in G:\n",
        "#    Ni = nx.neighbors(G,i)\n",
        "\n",
        "#    nodelist = []\n",
        "#    for k in Ni:\n",
        "#        nodelist.append(k)\n",
        "    \n",
        "#    if(is_subclique(G, nodelist)):\n",
        "#        print(\"vizinhanca de %d\" %i)\n"
      ]
    },
    {
      "cell_type": "code",
      "execution_count": 8,
      "metadata": {},
      "outputs": [
        {
          "name": "stdout",
          "output_type": "stream",
          "text": [
            "[0, 30]\n"
          ]
        }
      ],
      "source": [
        "#for u in range(0,N):\n",
        "Nu = nx.neighbors(G,1)\n",
        "\n",
        "listNu = []\n",
        "for k in Nu:\n",
        "    listNu.append(k)\n",
        "\n",
        "#print(list0)\n",
        "\n",
        "T = nx.Graph()\n",
        "T.add_nodes_from(listNu)\n",
        "for (a,b) in combinations(listNu,2):\n",
        "    if G.has_edge(a,b):\n",
        "        T.add_edge(a,b)\n",
        "\n",
        "Im = nx.maximal_independent_set(T)\n",
        "\n",
        "print(Im)\n",
        "\n",
        "#nx.draw(T,  with_labels = True)"
      ]
    },
    {
      "cell_type": "code",
      "execution_count": null,
      "metadata": {},
      "outputs": [],
      "source": []
    },
    {
      "cell_type": "code",
      "execution_count": 9,
      "metadata": {},
      "outputs": [
        {
          "name": "stdout",
          "output_type": "stream",
          "text": [
            "Set parameter Username\n",
            "Academic license - for non-commercial use only - expires 2024-03-15\n",
            "Set parameter MIPGap to value 1e-06\n",
            "Set parameter Threads to value 1\n"
          ]
        }
      ],
      "source": [
        "form_=\"fmax_miset\"\n",
        "method_=\"mip\"\n",
        "\n",
        "N = nx.number_of_nodes(G)\n",
        "M = nx.number_of_edges(G)\n",
        "\n",
        "lb = np.zeros((N), dtype=float)\n",
        "ub = np.zeros((N), dtype=float)\n",
        "time = np.zeros((N), dtype=float)\n",
        "gap = np.zeros((N), dtype=float)\n",
        "nodes = np.zeros((N), dtype=float)\n",
        "status = np.zeros((N), dtype=float)\n",
        "\n",
        "result_path = Path('../result/')\n",
        "\n",
        "for i in G:\n",
        "\n",
        "#    if i!=1:\n",
        "#        continue\n",
        "#    print(\"node :  %d\" %i)\n",
        "\n",
        "    Ni = nx.neighbors(G,i)\n",
        "\n",
        "    listNi = []\n",
        "    for k in Ni:\n",
        "        listNi.append(k)\n",
        "    \n",
        "    if(is_subclique(G, listNi)):\n",
        "        #print(\"tukey[%d] = 1\" %i)\n",
        "        lb[i] = 1\n",
        "        ub[i] = 1\n",
        "        gap[i] = 0.0\n",
        "        time[i] = 0.0\n",
        "        nodes[i] = 0\n",
        "        status[i] = 1\n",
        "    else:\n",
        "\n",
        "        model = gp.Model(f\"{instance_}\")\n",
        "\n",
        "        # configurando parametros\n",
        "        # model.Params.TimeLimit = 60\n",
        "        model.Params.MIPGap = 1.e-6\n",
        "        model.Params.Threads = 1\n",
        "        # model.Params.Presolve = 0\n",
        "        # model.Params.Cuts = 0\n",
        "\n",
        "        if (method_==\"mip\"):\n",
        "            x = model.addVars(N, vtype=GRB.BINARY, name=\"x\")\n",
        "        else:\n",
        "            x = model.addVars(N, lb=0.0, ub=1.0, vtype=GRB.CONTINUOUS, name=\"x\")\n",
        "   \n",
        "        obj = 0\n",
        "        for j in G:\n",
        "            obj += 1 * x[j]\n",
        "         \n",
        "        model.setObjective(obj, GRB.MAXIMIZE)\n",
        "     \n",
        "        # Turn off display and heuristics\n",
        "        gp.setParam('OutputFlag', 0)\n",
        "        gp.setParam('Heuristics', 0)\n",
        "\n",
        "        model.addConstr(x[i] == 0, \"fix_x\")\n",
        "\n",
        "        # geodesic\n",
        "        #for u in range(0,N):\n",
        "        #    for w in range(u+1,N):\n",
        "        #        #if dm[u,w] <= N:\n",
        "        #            for s in range(0,N):\n",
        "        #                if (s != u) and (s != w):\n",
        "        #                    if (dm[u,s] + dm[s,w] == dm[u,w]):\n",
        "        #                        model.addConstr(x[u] + x[w] <= 1 + x[s], \"geodesic\")\n",
        "\n",
        "        # geodesic neighbors\"\n",
        "        for u in range(0,N):\n",
        "            Nu = nx.neighbors(G,u)\n",
        "            \n",
        "            listNu = []\n",
        "            for j in Nu:\n",
        "                listNu.append(j)\n",
        "\n",
        "            for w in range(u+1,N):\n",
        "                if (w != u) and (w not in listNu):\n",
        "                    for s in listNu:\n",
        "                        if (s != w) and (dm[u,s] + dm[s,w] == dm[u,w]):\n",
        "                            model.addConstr(x[u] + x[w] <= 1 + x[s], \"geodesic\")\n",
        "\n",
        "        # maximal independent set\n",
        "        for u in range(0,N):\n",
        "            Nu = nx.neighbors(G,u)\n",
        "            listNu = []\n",
        "            for k in Nu:\n",
        "                listNu.append(k)\n",
        "\n",
        "            T = nx.Graph()\n",
        "            T.add_nodes_from(listNu)\n",
        "            for (a,b) in combinations(listNu,2):\n",
        "                if G.has_edge(a,b):\n",
        "                    T.add_edge(a,b)\n",
        "\n",
        "            #nx.draw(T,  with_labels = True)\n",
        "\n",
        "            Im = nx.maximal_independent_set(T)\n",
        "\n",
        "            if (len(Im) > 0):\n",
        "                constr = 0\n",
        "                for k in Im:\n",
        "                    constr += 1 * x[k]\n",
        "                model.addConstr(constr <= 1 + (len(Im)- 1)*x[u], \"miset\")\n",
        "\n",
        "            T.clear()\n",
        "\n",
        "        #model.write(f\"{instance_}.lp\")\n",
        "\n",
        "        model.optimize()\n",
        "\n",
        "        tmp = 0\n",
        "        if model.status == GRB.OPTIMAL:\n",
        "            tmp = 1\n",
        "    \n",
        "        if (method_==\"mip\"):\n",
        "            lb[i] = N - model.objBound\n",
        "            ub[i] = N - model.objVal\n",
        "            gap[i] = model.MIPGap\n",
        "            time[i] = model.Runtime\n",
        "            nodes[i] = model.NodeCount\n",
        "            status[i] = tmp\n",
        "        else:\n",
        "            ub[i] = N - model.objVal\n",
        "            time[i] = model.Runtime\n",
        "            status[i] = tmp\n",
        "\n",
        "        model.dispose()"
      ]
    },
    {
      "cell_type": "code",
      "execution_count": null,
      "metadata": {},
      "outputs": [],
      "source": []
    },
    {
      "cell_type": "code",
      "execution_count": 10,
      "metadata": {},
      "outputs": [],
      "source": [
        "tksum = np.sum(ub)\n",
        "tkmax = np.max(ub)\n",
        "tktime = np.sum(time)"
      ]
    },
    {
      "cell_type": "code",
      "execution_count": null,
      "metadata": {},
      "outputs": [],
      "source": []
    },
    {
      "cell_type": "code",
      "execution_count": 11,
      "metadata": {},
      "outputs": [
        {
          "name": "stdout",
          "output_type": "stream",
          "text": [
            "node:0, lb: 21, ub: 21, gap: 0.00, time: 0.03, nodes: 1, status: 1 \n",
            "node:1, lb: 21, ub: 21, gap: 0.00, time: 0.20, nodes: 5, status: 1 \n",
            "node:2, lb: 19, ub: 19, gap: 0.00, time: 0.01, nodes: 1, status: 1 \n",
            "node:3, lb: 3, ub: 3, gap: 0.00, time: 0.00, nodes: 1, status: 1 \n",
            "node:4, lb: 2, ub: 2, gap: 0.00, time: 0.00, nodes: 1, status: 1 \n",
            "node:5, lb: 3, ub: 3, gap: 0.00, time: 0.00, nodes: 1, status: 1 \n",
            "node:6, lb: 3, ub: 3, gap: 0.00, time: 0.00, nodes: 1, status: 1 \n",
            "node:7, lb: 1, ub: 1, gap: 0.00, time: 0.00, nodes: 0, status: 1 \n",
            "node:8, lb: 19, ub: 19, gap: 0.00, time: 0.07, nodes: 9, status: 1 \n",
            "node:9, lb: 19, ub: 19, gap: 0.00, time: 0.25, nodes: 7, status: 1 \n",
            "node:10, lb: 2, ub: 2, gap: 0.00, time: 0.00, nodes: 1, status: 1 \n",
            "node:11, lb: 1, ub: 1, gap: 0.00, time: 0.00, nodes: 0, status: 1 \n",
            "node:12, lb: 1, ub: 1, gap: 0.00, time: 0.00, nodes: 0, status: 1 \n",
            "node:13, lb: 19, ub: 19, gap: 0.00, time: 0.08, nodes: 4, status: 1 \n",
            "node:14, lb: 1, ub: 1, gap: 0.00, time: 0.00, nodes: 0, status: 1 \n",
            "node:15, lb: 1, ub: 1, gap: 0.00, time: 0.00, nodes: 0, status: 1 \n",
            "node:16, lb: 1, ub: 1, gap: 0.00, time: 0.00, nodes: 0, status: 1 \n",
            "node:17, lb: 1, ub: 1, gap: 0.00, time: 0.00, nodes: 0, status: 1 \n",
            "node:18, lb: 1, ub: 1, gap: 0.00, time: 0.00, nodes: 0, status: 1 \n",
            "node:19, lb: 19, ub: 19, gap: 0.00, time: 0.07, nodes: 5, status: 1 \n",
            "node:20, lb: 1, ub: 1, gap: 0.00, time: 0.00, nodes: 0, status: 1 \n",
            "node:21, lb: 1, ub: 1, gap: 0.00, time: 0.00, nodes: 0, status: 1 \n",
            "node:22, lb: 1, ub: 1, gap: 0.00, time: 0.00, nodes: 0, status: 1 \n",
            "node:23, lb: 19, ub: 19, gap: 0.00, time: 0.18, nodes: 9, status: 1 \n",
            "node:24, lb: 19, ub: 19, gap: 0.00, time: 0.30, nodes: 11, status: 1 \n",
            "node:25, lb: 19, ub: 19, gap: 0.00, time: 0.20, nodes: 7, status: 1 \n",
            "node:26, lb: 1, ub: 1, gap: 0.00, time: 0.00, nodes: 0, status: 1 \n",
            "node:27, lb: 19, ub: 19, gap: 0.00, time: 0.22, nodes: 7, status: 1 \n",
            "node:28, lb: 19, ub: 19, gap: 0.00, time: 0.12, nodes: 3, status: 1 \n",
            "node:29, lb: 2, ub: 2, gap: 0.00, time: 0.00, nodes: 1, status: 1 \n",
            "node:30, lb: 19, ub: 19, gap: 0.00, time: 0.15, nodes: 9, status: 1 \n",
            "node:31, lb: 19, ub: 19, gap: 0.00, time: 0.05, nodes: 2, status: 1 \n",
            "node:32, lb: 19, ub: 19, gap: 0.00, time: 0.07, nodes: 2, status: 1 \n",
            "node:33, lb: 19, ub: 19, gap: 0.00, time: 0.01, nodes: 1, status: 1 \n",
            "tksum : 335.00\n",
            "tkmax : 21.00\n",
            "tktime : 2.03\n"
          ]
        }
      ],
      "source": [
        "if method_ == \"lp\":\n",
        "    for i in G:\n",
        "        print(\n",
        "            \"node:%d, ub: %2f, time: %2f \" % (i, ub[i], time[i])\n",
        "            )\n",
        "    \n",
        "    print(\"tksum : %.2f\" %(tksum))\n",
        "    print(\"tkmax : %.2f\" %(tkmax))\n",
        "    print(\"tktime : %.2f\" %(tktime))\n",
        "\n",
        "if method_ == \"mip\":\n",
        "    for i in G:\n",
        "        print(\n",
        "            \"node:%d, lb: %d, ub: %d, gap: %.2f, time: %.2f, nodes: %d, status: %d \" \n",
        "            % (i, lb[i], ub[i], gap[i], time[i], nodes[i], status[i])\n",
        "            )\n",
        "    \n",
        "    print(\"tksum : %.2f\" %(tksum))\n",
        "    print(\"tkmax : %.2f\" %(tkmax))\n",
        "    print(\"tktime : %.2f\" %(tktime))"
      ]
    },
    {
      "cell_type": "code",
      "execution_count": null,
      "metadata": {},
      "outputs": [],
      "source": []
    },
    {
      "cell_type": "code",
      "execution_count": null,
      "metadata": {},
      "outputs": [],
      "source": []
    }
  ],
  "metadata": {
    "kernelspec": {
      "display_name": "Python 3",
      "language": "python",
      "name": "python3"
    },
    "language_info": {
      "codemirror_mode": {
        "name": "ipython",
        "version": 3
      },
      "file_extension": ".py",
      "mimetype": "text/x-python",
      "name": "python",
      "nbconvert_exporter": "python",
      "pygments_lexer": "ipython3",
      "version": "3.10.6"
    }
  },
  "nbformat": 4,
  "nbformat_minor": 0
}
